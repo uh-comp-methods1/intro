{
 "cells": [
  {
   "cell_type": "markdown",
   "id": "013ec8e1-4a21-456e-908e-fe166ff775bd",
   "metadata": {
    "tags": []
   },
   "source": [
    "Python is a general purpose programming language, however, we will focus on scientific computations using NumPy and SciPy packages. In the JupyterLab environment, Python code is organized in cells that can be run seperately. Let's have a look at the following cell: "
   ]
  },
  {
   "cell_type": "code",
   "execution_count": 1,
   "id": "e2887a7e-9093-43b3-acc7-ddab30ccd2c2",
   "metadata": {},
   "outputs": [
    {
     "name": "stdout",
     "output_type": "stream",
     "text": [
      "Hello world\n"
     ]
    }
   ],
   "source": [
    "# (Comments in Python start with #)\n",
    "# Run the below code by clicking this cell and hitting shift+enter\n",
    "print('Hello world')"
   ]
  },
  {
   "cell_type": "markdown",
   "id": "ae34c88d-293b-42de-a872-38a9746c12e4",
   "metadata": {},
   "source": [
    "In what follows, the cells are meant to be run in the order they appear. Changing the order may cause errors.\n",
    "\n",
    "__In practice, you will often run cells in non-sequential order as you try things out, and this might cause errors even when your code is correct. A quick solution is to click the _Restart Kernel and Run All Cells..._ button that looks like ⏩️. This will run your code starting from a clean state.__ \n",
    "\n",
    "To see the effect of the below cells well, you should not run them all at once. If you clicked the ⏩️ button already, you can click _Edit / Clear All Outputs_ to hide the outputs again."
   ]
  },
  {
   "cell_type": "markdown",
   "id": "1e8ad42e-70f9-4d51-9bce-c6fb9d63701d",
   "metadata": {},
   "source": [
    "# Using Python as a calculator\n",
    "\n",
    "An excellent way to learn Python is to read the \n",
    "[Python Tutorial](https://docs.python.org/3/tutorial/index.html). I have reproduced here a couple of examples from [Section 3.1](https://docs.python.org/3/tutorial/introduction.html#using-python-as-a-calculator) of the tutorial.\n",
    "\n",
    "Expression syntax is straightforward: the operators `+`, `-`, `*` and `/` work just like in most other languages (for example, Pascal or C); parentheses `()` can be used for grouping. For example:"
   ]
  },
  {
   "cell_type": "code",
   "execution_count": 2,
   "id": "8d5c9a9c-806c-460a-a8b2-292db5ed0428",
   "metadata": {},
   "outputs": [
    {
     "data": {
      "text/plain": [
       "20"
      ]
     },
     "execution_count": 2,
     "metadata": {},
     "output_type": "execute_result"
    }
   ],
   "source": [
    "50 - 5*6"
   ]
  },
  {
   "cell_type": "code",
   "execution_count": 3,
   "id": "d353bced-4806-45a3-acb2-34a58843b85a",
   "metadata": {},
   "outputs": [
    {
     "data": {
      "text/plain": [
       "5.0"
      ]
     },
     "execution_count": 3,
     "metadata": {},
     "output_type": "execute_result"
    }
   ],
   "source": [
    "(50 - 5*6) / 4"
   ]
  },
  {
   "cell_type": "code",
   "execution_count": 4,
   "id": "79146f51-a21a-4983-92e7-99f44e5d6d93",
   "metadata": {},
   "outputs": [
    {
     "data": {
      "text/plain": [
       "1.6"
      ]
     },
     "execution_count": 4,
     "metadata": {},
     "output_type": "execute_result"
    }
   ],
   "source": [
    "8 / 5  # division always returns a floating point number"
   ]
  },
  {
   "cell_type": "markdown",
   "id": "3e8072f4-ec00-4310-880a-a74c35391288",
   "metadata": {},
   "source": [
    "# Variables \n",
    "\n",
    "A variable is an object where a value is stored. Let's have some examples"
   ]
  },
  {
   "cell_type": "code",
   "execution_count": 5,
   "id": "bf278b4c-3b43-4eec-919e-1ac8ce630706",
   "metadata": {},
   "outputs": [
    {
     "name": "stdout",
     "output_type": "stream",
     "text": [
      "a = 2, b = 1, and c = 2\n"
     ]
    }
   ],
   "source": [
    "# We define variables a, b and c\n",
    "a = 1\n",
    "b = 1\n",
    "c = a + b\n",
    "\n",
    "# We can change the value of a\n",
    "a = 2\n",
    "\n",
    "# Print all the three variables using a formatted string, or f-string, see\n",
    "# https://docs.python.org/3/tutorial/inputoutput.html#formatted-string-literals\n",
    "# https://docs.python.org/3/reference/lexical_analysis.html#f-strings\n",
    "print(f'a = {a}, b = {b}, and c = {c}')"
   ]
  },
  {
   "cell_type": "code",
   "execution_count": 6,
   "id": "f7279a69-3942-4616-8419-f39bf21181a6",
   "metadata": {},
   "outputs": [
    {
     "data": {
      "text/plain": [
       "2"
      ]
     },
     "execution_count": 6,
     "metadata": {},
     "output_type": "execute_result"
    }
   ],
   "source": [
    "# We can also print the value of one of the variables simply by\n",
    "a"
   ]
  },
  {
   "cell_type": "code",
   "execution_count": 7,
   "id": "d5aaa5f3-4dcc-49a0-94d5-bb693d76e799",
   "metadata": {},
   "outputs": [
    {
     "name": "stdout",
     "output_type": "stream",
     "text": [
      "Variable   Type    Data/Info\n",
      "----------------------------\n",
      "a          int     2\n",
      "b          int     1\n",
      "c          int     2\n"
     ]
    }
   ],
   "source": [
    "# Get info on all the variables\n",
    "%whos"
   ]
  },
  {
   "cell_type": "markdown",
   "id": "f1dbce48-e3a6-454e-9e42-e206278fecc2",
   "metadata": {},
   "source": [
    "# The help system\n",
    "\n",
    "Appending a function or command name with `?` gives its short description. More detailed documentation can be found in the references at the bottom of the _Help_ menu, if you are running the notebook locally. The Help menu may look different on different cloud environments. \n",
    "\n",
    "The JupyterLab environment consists of several components, and each of them is documented sepately. The following should help you to choose the right reference:\n",
    "\n",
    "* [Python](https://docs.python.org/3/) for regular Python functions such as `print`\n",
    "* [IPython](https://ipython.readthedocs.io) for commands starting with `%`, for example `%whos`\n",
    "* [NumPy](https://numpy.org/doc/stable/reference/) for basic functions related to matrices\n",
    "* [SciPy](https://docs.scipy.org/doc/scipy/reference/) for more complicated mathematical functions (building on NumPy)\n",
    "* [Matplotlib](https://matplotlib.org/stable/) for functions related to plotting\n",
    "* [SymPy](https://docs.sympy.org/latest) for symbolic computations\n",
    "* [pandas](https://pandas.pydata.org/pandas-docs/stable) for data analysis tools\n",
    "\n",
    "We are not going to use pandas except for pretty printing of tabular data."
   ]
  },
  {
   "cell_type": "code",
   "execution_count": 8,
   "id": "28a916af-5749-4a37-b02f-22067f817698",
   "metadata": {},
   "outputs": [
    {
     "name": "stdout",
     "output_type": "stream",
     "text": [
      "\u001b[0;31mSignature:\u001b[0m \u001b[0mprint\u001b[0m\u001b[0;34m(\u001b[0m\u001b[0;34m*\u001b[0m\u001b[0margs\u001b[0m\u001b[0;34m,\u001b[0m \u001b[0msep\u001b[0m\u001b[0;34m=\u001b[0m\u001b[0;34m' '\u001b[0m\u001b[0;34m,\u001b[0m \u001b[0mend\u001b[0m\u001b[0;34m=\u001b[0m\u001b[0;34m'\\n'\u001b[0m\u001b[0;34m,\u001b[0m \u001b[0mfile\u001b[0m\u001b[0;34m=\u001b[0m\u001b[0;32mNone\u001b[0m\u001b[0;34m,\u001b[0m \u001b[0mflush\u001b[0m\u001b[0;34m=\u001b[0m\u001b[0;32mFalse\u001b[0m\u001b[0;34m)\u001b[0m\u001b[0;34m\u001b[0m\u001b[0;34m\u001b[0m\u001b[0m\n",
      "\u001b[0;31mDocstring:\u001b[0m\n",
      "Prints the values to a stream, or to sys.stdout by default.\n",
      "\n",
      "sep\n",
      "  string inserted between values, default a space.\n",
      "end\n",
      "  string appended after the last value, default a newline.\n",
      "file\n",
      "  a file-like object (stream); defaults to the current sys.stdout.\n",
      "flush\n",
      "  whether to forcibly flush the stream.\n",
      "\u001b[0;31mType:\u001b[0m      builtin_function_or_method"
     ]
    }
   ],
   "source": [
    "# Get description of the print function\n",
    "print?"
   ]
  },
  {
   "cell_type": "code",
   "execution_count": 9,
   "id": "b45bb534-0cbb-44e0-826a-a3ab3adb0405",
   "metadata": {},
   "outputs": [
    {
     "name": "stdout",
     "output_type": "stream",
     "text": [
      "\u001b[0;31mDocstring:\u001b[0m\n",
      "Like %who, but gives some extra information about each variable.\n",
      "\n",
      "The same type filtering of %who can be applied here.\n",
      "\n",
      "For all variables, the type is printed. Additionally it prints:\n",
      "\n",
      "  - For {},[],(): their length.\n",
      "\n",
      "  - For numpy arrays, a summary with shape, number of\n",
      "    elements, typecode and size in memory.\n",
      "\n",
      "  - Everything else: a string representation, snipping their middle if\n",
      "    too long.\n",
      "\n",
      "Examples\n",
      "--------\n",
      "Define two variables and list them with whos::\n",
      "\n",
      "  In [1]: alpha = 123\n",
      "\n",
      "  In [2]: beta = 'test'\n",
      "\n",
      "  In [3]: %whos\n",
      "  Variable   Type        Data/Info\n",
      "  --------------------------------\n",
      "  alpha      int         123\n",
      "  beta       str         test\n",
      "\u001b[0;31mFile:\u001b[0m      ~/anaconda3/envs/comp-methods/lib/python3.12/site-packages/IPython/core/magics/namespace.py"
     ]
    }
   ],
   "source": [
    "# Get description of the %whos command\n",
    "%whos?"
   ]
  },
  {
   "cell_type": "code",
   "execution_count": 10,
   "id": "b852d207-6ffe-4170-a828-9a5885785b7f",
   "metadata": {},
   "outputs": [
    {
     "name": "stdout",
     "output_type": "stream",
     "text": [
      "Operator precedence\n",
      "*******************\n",
      "\n",
      "The following table summarizes the operator precedence in Python, from\n",
      "highest precedence (most binding) to lowest precedence (least\n",
      "binding).  Operators in the same box have the same precedence.  Unless\n",
      "the syntax is explicitly given, operators are binary.  Operators in\n",
      "the same box group left to right (except for exponentiation and\n",
      "conditional expressions, which group from right to left).\n",
      "\n",
      "Note that comparisons, membership tests, and identity tests, all have\n",
      "the same precedence and have a left-to-right chaining feature as\n",
      "described in the Comparisons section.\n",
      "\n",
      "+-------------------------------------------------+---------------------------------------+\n",
      "| Operator                                        | Description                           |\n",
      "|=================================================|=======================================|\n",
      "| \"(expressions...)\",  \"[expressions...]\", \"{key: | Binding or parenthesized expression,  |\n",
      "| value...}\", \"{expressions...}\"                  | list display, dictionary display, set |\n",
      "|                                                 | display                               |\n",
      "+-------------------------------------------------+---------------------------------------+\n",
      "| \"x[index]\", \"x[index:index]\",                   | Subscription, slicing, call,          |\n",
      "| \"x(arguments...)\", \"x.attribute\"                | attribute reference                   |\n",
      "+-------------------------------------------------+---------------------------------------+\n",
      "| \"await x\"                                       | Await expression                      |\n",
      "+-------------------------------------------------+---------------------------------------+\n",
      "| \"**\"                                            | Exponentiation [5]                    |\n",
      "+-------------------------------------------------+---------------------------------------+\n",
      "| \"+x\", \"-x\", \"~x\"                                | Positive, negative, bitwise NOT       |\n",
      "+-------------------------------------------------+---------------------------------------+\n",
      "| \"*\", \"@\", \"/\", \"//\", \"%\"                        | Multiplication, matrix                |\n",
      "|                                                 | multiplication, division, floor       |\n",
      "|                                                 | division, remainder [6]               |\n",
      "+-------------------------------------------------+---------------------------------------+\n",
      "| \"+\", \"-\"                                        | Addition and subtraction              |\n",
      "+-------------------------------------------------+---------------------------------------+\n",
      "| \"<<\", \">>\"                                      | Shifts                                |\n",
      "+-------------------------------------------------+---------------------------------------+\n",
      "| \"&\"                                             | Bitwise AND                           |\n",
      "+-------------------------------------------------+---------------------------------------+\n",
      "| \"^\"                                             | Bitwise XOR                           |\n",
      "+-------------------------------------------------+---------------------------------------+\n",
      "| \"|\"                                             | Bitwise OR                            |\n",
      "+-------------------------------------------------+---------------------------------------+\n",
      "| \"in\", \"not in\", \"is\", \"is not\", \"<\", \"<=\", \">\", | Comparisons, including membership     |\n",
      "| \">=\", \"!=\", \"==\"                                | tests and identity tests              |\n",
      "+-------------------------------------------------+---------------------------------------+\n",
      "| \"not x\"                                         | Boolean NOT                           |\n",
      "+-------------------------------------------------+---------------------------------------+\n",
      "| \"and\"                                           | Boolean AND                           |\n",
      "+-------------------------------------------------+---------------------------------------+\n",
      "| \"or\"                                            | Boolean OR                            |\n",
      "+-------------------------------------------------+---------------------------------------+\n",
      "| \"if\" – \"else\"                                   | Conditional expression                |\n",
      "+-------------------------------------------------+---------------------------------------+\n",
      "| \"lambda\"                                        | Lambda expression                     |\n",
      "+-------------------------------------------------+---------------------------------------+\n",
      "| \":=\"                                            | Assignment expression                 |\n",
      "+-------------------------------------------------+---------------------------------------+\n",
      "\n",
      "-[ Footnotes ]-\n",
      "\n",
      "[1] While \"abs(x%y) < abs(y)\" is true mathematically, for floats it\n",
      "    may not be true numerically due to roundoff.  For example, and\n",
      "    assuming a platform on which a Python float is an IEEE 754 double-\n",
      "    precision number, in order that \"-1e-100 % 1e100\" have the same\n",
      "    sign as \"1e100\", the computed result is \"-1e-100 + 1e100\", which\n",
      "    is numerically exactly equal to \"1e100\".  The function\n",
      "    \"math.fmod()\" returns a result whose sign matches the sign of the\n",
      "    first argument instead, and so returns \"-1e-100\" in this case.\n",
      "    Which approach is more appropriate depends on the application.\n",
      "\n",
      "[2] If x is very close to an exact integer multiple of y, it’s\n",
      "    possible for \"x//y\" to be one larger than \"(x-x%y)//y\" due to\n",
      "    rounding.  In such cases, Python returns the latter result, in\n",
      "    order to preserve that \"divmod(x,y)[0] * y + x % y\" be very close\n",
      "    to \"x\".\n",
      "\n",
      "[3] The Unicode standard distinguishes between *code points* (e.g.\n",
      "    U+0041) and *abstract characters* (e.g. “LATIN CAPITAL LETTER A”).\n",
      "    While most abstract characters in Unicode are only represented\n",
      "    using one code point, there is a number of abstract characters\n",
      "    that can in addition be represented using a sequence of more than\n",
      "    one code point.  For example, the abstract character “LATIN\n",
      "    CAPITAL LETTER C WITH CEDILLA” can be represented as a single\n",
      "    *precomposed character* at code position U+00C7, or as a sequence\n",
      "    of a *base character* at code position U+0043 (LATIN CAPITAL\n",
      "    LETTER C), followed by a *combining character* at code position\n",
      "    U+0327 (COMBINING CEDILLA).\n",
      "\n",
      "    The comparison operators on strings compare at the level of\n",
      "    Unicode code points. This may be counter-intuitive to humans.  For\n",
      "    example, \"\"\\u00C7\" == \"\\u0043\\u0327\"\" is \"False\", even though both\n",
      "    strings represent the same abstract character “LATIN CAPITAL\n",
      "    LETTER C WITH CEDILLA”.\n",
      "\n",
      "    To compare strings at the level of abstract characters (that is,\n",
      "    in a way intuitive to humans), use \"unicodedata.normalize()\".\n",
      "\n",
      "[4] Due to automatic garbage-collection, free lists, and the dynamic\n",
      "    nature of descriptors, you may notice seemingly unusual behaviour\n",
      "    in certain uses of the \"is\" operator, like those involving\n",
      "    comparisons between instance methods, or constants.  Check their\n",
      "    documentation for more info.\n",
      "\n",
      "[5] The power operator \"**\" binds less tightly than an arithmetic or\n",
      "    bitwise unary operator on its right, that is, \"2**-1\" is \"0.5\".\n",
      "\n",
      "[6] The \"%\" operator is also used for string formatting; the same\n",
      "    precedence applies.\n",
      "\n",
      "Related help topics: lambda, or, and, not, in, is, BOOLEAN, COMPARISON,\n",
      "BITWISE, SHIFTING, BINARY, FORMATTING, POWER, UNARY, ATTRIBUTES,\n",
      "SUBSCRIPTS, SLICINGS, CALLS, TUPLES, LISTS, DICTIONARIES\n",
      "\n"
     ]
    }
   ],
   "source": [
    "# Appending ? does not work with operators but the following does\n",
    "help('+')"
   ]
  },
  {
   "cell_type": "markdown",
   "id": "477c2089-cf4e-4898-ab7c-b213527a480a",
   "metadata": {},
   "source": [
    "# Constants in NumPy\n",
    "\n",
    "The imaginary unit is `1j`. Note that `j` by itself can be used as a name of a variable (but, to avoid confusion, you probably don't want to do this if you are also using complex numbers). NumPy package defines many commonly used  constants. Before we can use them we need to import the package. (For more info on importing see [Modules Section](https://docs.python.org/3/tutorial/modules.html#modules) of the Python Tutorial.)\n",
    "\n",
    "To import NumPy run the following cell. **If you restart the kernel you need to run the cell again.** In other words, if you get the error message _\"NameError: name 'np' is not defined\"_, then run the below cell. Note that the import statement does not produce any visible output."
   ]
  },
  {
   "cell_type": "code",
   "execution_count": 11,
   "id": "59763f72-ba59-457a-ad2a-fd773c3d87b7",
   "metadata": {},
   "outputs": [],
   "source": [
    "import numpy as np"
   ]
  },
  {
   "cell_type": "markdown",
   "id": "f2636142-13e4-428d-854e-4c1c79b4e6a2",
   "metadata": {},
   "source": [
    "Recall that Euler's formula says $e^{\\pi i} + 1 = 0$. Let's write the left-hand side of the formula in Python."
   ]
  },
  {
   "cell_type": "code",
   "execution_count": 12,
   "id": "b019509b-6df0-4df4-9cbc-dea64f7e27fa",
   "metadata": {},
   "outputs": [
    {
     "data": {
      "text/plain": [
       "1.2246467991473532e-16j"
      ]
     },
     "execution_count": 12,
     "metadata": {},
     "output_type": "execute_result"
    }
   ],
   "source": [
    "# Note that power is ** instead of the more common ^  \n",
    "# This should give zero up to the machine precision\n",
    "err = np.e**(np.pi * 1j) + 1\n",
    "err"
   ]
  },
  {
   "cell_type": "markdown",
   "id": "69968908-901e-4ea0-806f-f73c97b2c94d",
   "metadata": {},
   "source": [
    "## Machine epsilon\n",
    "\n",
    "The default data type for number in numpy is called `float`. Let's get info on the precision and limits of this type."
   ]
  },
  {
   "cell_type": "code",
   "execution_count": 13,
   "id": "8b8b1907-eb1c-490a-9717-7697a052142a",
   "metadata": {},
   "outputs": [
    {
     "name": "stdout",
     "output_type": "stream",
     "text": [
      "Machine parameters for float64\n",
      "---------------------------------------------------------------\n",
      "precision =  15   resolution = 1.0000000000000001e-15\n",
      "machep =    -52   eps =        2.2204460492503131e-16\n",
      "negep =     -53   epsneg =     1.1102230246251565e-16\n",
      "minexp =  -1022   tiny =       2.2250738585072014e-308\n",
      "maxexp =   1024   max =        1.7976931348623157e+308\n",
      "nexp =       11   min =        -max\n",
      "smallest_normal = 2.2250738585072014e-308   smallest_subnormal = 4.9406564584124654e-324\n",
      "---------------------------------------------------------------\n",
      "\n"
     ]
    }
   ],
   "source": [
    "print(np.finfo(float))"
   ]
  },
  {
   "cell_type": "code",
   "execution_count": 14,
   "id": "d19e89ea-16c7-4965-a1d6-6a3c28b1706e",
   "metadata": {},
   "outputs": [
    {
     "data": {
      "text/plain": [
       "2.220446049250313e-16"
      ]
     },
     "execution_count": 14,
     "metadata": {},
     "output_type": "execute_result"
    }
   ],
   "source": [
    "# Machine epsilon gives an upper bound on the relative error due to rounding \n",
    "# in floating point arithmetic. For our purposes this is \n",
    "eps = np.finfo(float).eps\n",
    "eps"
   ]
  },
  {
   "cell_type": "code",
   "execution_count": 15,
   "id": "cc042043-8763-4ad3-853d-aedf3a5eec4b",
   "metadata": {},
   "outputs": [
    {
     "data": {
      "text/plain": [
       "True"
      ]
     },
     "execution_count": 15,
     "metadata": {},
     "output_type": "execute_result"
    }
   ],
   "source": [
    "# Check that the rounding error err above is indeed less than eps\n",
    "abs(err) < eps"
   ]
  },
  {
   "cell_type": "code",
   "execution_count": 16,
   "id": "6333bffd-361a-481f-b24a-ef383881f33c",
   "metadata": {},
   "outputs": [
    {
     "name": "stdout",
     "output_type": "stream",
     "text": [
      "2.2e-16\n"
     ]
    }
   ],
   "source": [
    "# Print eps after rounding to one digit in the fractional part\n",
    "print(f'{eps:.1e}')"
   ]
  },
  {
   "cell_type": "markdown",
   "id": "ea05a211-ca14-46aa-8b60-86b13bd3e7c2",
   "metadata": {},
   "source": [
    "# Mathematical functions\n",
    "\n",
    "See the [list of mathematical functions](https://numpy.org/doc/stable/reference/routines.math.html) in NumPy for documentation of many mathematical functions.\n",
    "\n",
    "Recall that $\\sin(\\pi) = 0$. Let's write the left-hand side of the formula in Python."
   ]
  },
  {
   "cell_type": "code",
   "execution_count": 17,
   "id": "19255b86-2649-4158-b5ad-9604c328f95e",
   "metadata": {},
   "outputs": [
    {
     "data": {
      "text/plain": [
       "1.2246467991473532e-16"
      ]
     },
     "execution_count": 17,
     "metadata": {},
     "output_type": "execute_result"
    }
   ],
   "source": [
    "# This should give zero up to the machine precision\n",
    "np.sin(np.pi)"
   ]
  },
  {
   "cell_type": "code",
   "execution_count": 18,
   "metadata": {},
   "outputs": [
    {
     "name": "stdout",
     "output_type": "stream",
     "text": [
      "\u001b[0;31mSignature:\u001b[0m       \u001b[0mnp\u001b[0m\u001b[0;34m.\u001b[0m\u001b[0mtranspose\u001b[0m\u001b[0;34m(\u001b[0m\u001b[0ma\u001b[0m\u001b[0;34m,\u001b[0m \u001b[0maxes\u001b[0m\u001b[0;34m=\u001b[0m\u001b[0;32mNone\u001b[0m\u001b[0;34m)\u001b[0m\u001b[0;34m\u001b[0m\u001b[0;34m\u001b[0m\u001b[0m\n",
      "\u001b[0;31mCall signature:\u001b[0m  \u001b[0mnp\u001b[0m\u001b[0;34m.\u001b[0m\u001b[0mtranspose\u001b[0m\u001b[0;34m(\u001b[0m\u001b[0;34m*\u001b[0m\u001b[0margs\u001b[0m\u001b[0;34m,\u001b[0m \u001b[0;34m**\u001b[0m\u001b[0mkwargs\u001b[0m\u001b[0;34m)\u001b[0m\u001b[0;34m\u001b[0m\u001b[0;34m\u001b[0m\u001b[0m\n",
      "\u001b[0;31mType:\u001b[0m            _ArrayFunctionDispatcher\n",
      "\u001b[0;31mString form:\u001b[0m     <function transpose at 0x7f2c080a4680>\n",
      "\u001b[0;31mFile:\u001b[0m            ~/anaconda3/envs/comp-methods/lib/python3.12/site-packages/numpy/core/fromnumeric.py\n",
      "\u001b[0;31mDocstring:\u001b[0m      \n",
      "Returns an array with axes transposed.\n",
      "\n",
      "For a 1-D array, this returns an unchanged view of the original array, as a\n",
      "transposed vector is simply the same vector.\n",
      "To convert a 1-D array into a 2-D column vector, an additional dimension\n",
      "must be added, e.g., ``np.atleast2d(a).T`` achieves this, as does\n",
      "``a[:, np.newaxis]``.\n",
      "For a 2-D array, this is the standard matrix transpose.\n",
      "For an n-D array, if axes are given, their order indicates how the\n",
      "axes are permuted (see Examples). If axes are not provided, then\n",
      "``transpose(a).shape == a.shape[::-1]``.\n",
      "\n",
      "Parameters\n",
      "----------\n",
      "a : array_like\n",
      "    Input array.\n",
      "axes : tuple or list of ints, optional\n",
      "    If specified, it must be a tuple or list which contains a permutation\n",
      "    of [0,1,...,N-1] where N is the number of axes of `a`. The `i`'th axis\n",
      "    of the returned array will correspond to the axis numbered ``axes[i]``\n",
      "    of the input. If not specified, defaults to ``range(a.ndim)[::-1]``,\n",
      "    which reverses the order of the axes.\n",
      "\n",
      "Returns\n",
      "-------\n",
      "p : ndarray\n",
      "    `a` with its axes permuted. A view is returned whenever possible.\n",
      "\n",
      "See Also\n",
      "--------\n",
      "ndarray.transpose : Equivalent method.\n",
      "moveaxis : Move axes of an array to new positions.\n",
      "argsort : Return the indices that would sort an array.\n",
      "\n",
      "Notes\n",
      "-----\n",
      "Use ``transpose(a, argsort(axes))`` to invert the transposition of tensors\n",
      "when using the `axes` keyword argument.\n",
      "\n",
      "Examples\n",
      "--------\n",
      ">>> a = np.array([[1, 2], [3, 4]])\n",
      ">>> a\n",
      "array([[1, 2],\n",
      "       [3, 4]])\n",
      ">>> np.transpose(a)\n",
      "array([[1, 3],\n",
      "       [2, 4]])\n",
      "\n",
      ">>> a = np.array([1, 2, 3, 4])\n",
      ">>> a\n",
      "array([1, 2, 3, 4])\n",
      ">>> np.transpose(a)\n",
      "array([1, 2, 3, 4])\n",
      "\n",
      ">>> a = np.ones((1, 2, 3))\n",
      ">>> np.transpose(a, (1, 0, 2)).shape\n",
      "(2, 1, 3)\n",
      "\n",
      ">>> a = np.ones((2, 3, 4, 5))\n",
      ">>> np.transpose(a).shape\n",
      "(5, 4, 3, 2)\n",
      "\u001b[0;31mClass docstring:\u001b[0m\n",
      "Class to wrap functions with checks for __array_function__ overrides.\n",
      "\n",
      "All arguments are required, and can only be passed by position.\n",
      "\n",
      "Parameters\n",
      "----------\n",
      "dispatcher : function or None\n",
      "    The dispatcher function that returns a single sequence-like object\n",
      "    of all arguments relevant.  It must have the same signature (except\n",
      "    the default values) as the actual implementation.\n",
      "    If ``None``, this is a ``like=`` dispatcher and the\n",
      "    ``_ArrayFunctionDispatcher`` must be called with ``like`` as the\n",
      "    first (additional and positional) argument.\n",
      "implementation : function\n",
      "    Function that implements the operation on NumPy arrays without\n",
      "    overrides.  Arguments passed calling the ``_ArrayFunctionDispatcher``\n",
      "    will be forwarded to this (and the ``dispatcher``) as if using\n",
      "    ``*args, **kwargs``.\n",
      "\n",
      "Attributes\n",
      "----------\n",
      "_implementation : function\n",
      "    The original implementation passed in."
     ]
    }
   ],
   "source": [
    "# We can also open the source code from modules. Sometimes this is helpful, often not so much...\n",
    "# Click the path in 'File: ~/anaconda3/envs/comp-methods/lib/python3.9/site-packages/numpy/core/fromnumeric.py'\n",
    "np.transpose?"
   ]
  },
  {
   "cell_type": "markdown",
   "id": "ac2e7b19-9f48-4494-bbce-9a05ae96f0c4",
   "metadata": {},
   "source": [
    "# First steps towards programming\n",
    "\n",
    "Consult [Section 3.3](https://docs.python.org/3/tutorial/introduction.html#first-steps-towards-programming) of the tutorial for a detailed explanation of the following example. "
   ]
  },
  {
   "cell_type": "code",
   "execution_count": 19,
   "id": "fd8e73e8-bde5-4d4e-81b8-cd875bce72da",
   "metadata": {},
   "outputs": [
    {
     "name": "stdout",
     "output_type": "stream",
     "text": [
      "0\n",
      "1\n",
      "1\n",
      "2\n",
      "3\n",
      "5\n",
      "8\n"
     ]
    }
   ],
   "source": [
    "# Fibonacci series:\n",
    "# the sum of two elements defines the next\n",
    "a, b = 0, 1\n",
    "while a < 10:\n",
    "    print(a)\n",
    "    a, b = b, a+b"
   ]
  },
  {
   "cell_type": "markdown",
   "id": "067f0d18-0042-436a-8edc-f98921ae0969",
   "metadata": {},
   "source": [
    "# Control flow\n",
    "\n",
    "Consult [Section 4](https://docs.python.org/3/tutorial/controlflow.html#more-control-flow-tools) of the tutorial for a detailed explanation of the following example. "
   ]
  },
  {
   "cell_type": "code",
   "execution_count": 20,
   "id": "6e40c4b7-3b04-4eaa-bf50-a993995d57a9",
   "metadata": {},
   "outputs": [
    {
     "name": "stdout",
     "output_type": "stream",
     "text": [
      "2 is a prime number\n",
      "3 is a prime number\n",
      "4 equals 2 * 2\n",
      "5 is a prime number\n",
      "6 equals 2 * 3\n",
      "7 is a prime number\n",
      "8 equals 2 * 4\n",
      "9 equals 3 * 3\n"
     ]
    }
   ],
   "source": [
    "for n in range(2, 10):\n",
    "    for x in range(2, n):\n",
    "        if n % x == 0:\n",
    "            print(n, 'equals', x, '*', n//x)\n",
    "            break\n",
    "    else:\n",
    "        # loop fell through without finding a factor\n",
    "        print(n, 'is a prime number')"
   ]
  },
  {
   "cell_type": "markdown",
   "id": "738dbd0b-d692-47c5-a254-45dff5322786",
   "metadata": {},
   "source": [
    "# Functions\n",
    "\n",
    "The below example is from [Section 4.1](https://docs.python.org/3/tutorial/controlflow.html#defining-functions) of the tutorial. Here the first statement of the function body is a string literal; this is the function’s documentation string, or docstring. (More about docstrings can be found in the section [Documentation Strings](https://docs.python.org/3/tutorial/controlflow.html#tut-docstrings).) One nice feature is that docstrings work with the help system. "
   ]
  },
  {
   "cell_type": "code",
   "execution_count": 21,
   "id": "778fbaf9-09ea-42da-a659-8e876ea531ea",
   "metadata": {},
   "outputs": [
    {
     "data": {
      "text/plain": [
       "[0, 1, 1, 2, 3, 5, 8, 13, 21, 34, 55, 89, 144, 233, 377, 610, 987, 1597]"
      ]
     },
     "execution_count": 21,
     "metadata": {},
     "output_type": "execute_result"
    }
   ],
   "source": [
    "def fib2(n): \n",
    "    \"\"\"Return a list containing the Fibonacci series up to n.\"\"\"\n",
    "    result = []\n",
    "    a, b = 0, 1\n",
    "    while a < n:\n",
    "        result.append(a)    \n",
    "        a, b = b, a+b\n",
    "    return result\n",
    "\n",
    "# Now call the function we just defined:\n",
    "fib2(2000)"
   ]
  },
  {
   "cell_type": "code",
   "execution_count": 22,
   "id": "d48852fc-188b-4134-93f8-a8d15078e47d",
   "metadata": {},
   "outputs": [
    {
     "name": "stdout",
     "output_type": "stream",
     "text": [
      "\u001b[0;31mSignature:\u001b[0m \u001b[0mfib2\u001b[0m\u001b[0;34m(\u001b[0m\u001b[0mn\u001b[0m\u001b[0;34m)\u001b[0m\u001b[0;34m\u001b[0m\u001b[0;34m\u001b[0m\u001b[0m\n",
      "\u001b[0;31mDocstring:\u001b[0m Return a list containing the Fibonacci series up to n.\n",
      "\u001b[0;31mFile:\u001b[0m      /tmp/ipykernel_39986/1778826631.py\n",
      "\u001b[0;31mType:\u001b[0m      function"
     ]
    }
   ],
   "source": [
    "fib2?"
   ]
  },
  {
   "cell_type": "code",
   "execution_count": 23,
   "id": "fca75075-513c-4e86-934e-7c8f644437a4",
   "metadata": {},
   "outputs": [
    {
     "name": "stdout",
     "output_type": "stream",
     "text": [
      "\u001b[0;31mSignature:\u001b[0m \u001b[0mfib2\u001b[0m\u001b[0;34m(\u001b[0m\u001b[0mn\u001b[0m\u001b[0;34m)\u001b[0m\u001b[0;34m\u001b[0m\u001b[0;34m\u001b[0m\u001b[0m\n",
      "\u001b[0;31mSource:\u001b[0m   \n",
      "\u001b[0;32mdef\u001b[0m \u001b[0mfib2\u001b[0m\u001b[0;34m(\u001b[0m\u001b[0mn\u001b[0m\u001b[0;34m)\u001b[0m\u001b[0;34m:\u001b[0m \u001b[0;34m\u001b[0m\n",
      "\u001b[0;34m\u001b[0m    \u001b[0;34m\"\"\"Return a list containing the Fibonacci series up to n.\"\"\"\u001b[0m\u001b[0;34m\u001b[0m\n",
      "\u001b[0;34m\u001b[0m    \u001b[0mresult\u001b[0m \u001b[0;34m=\u001b[0m \u001b[0;34m[\u001b[0m\u001b[0;34m]\u001b[0m\u001b[0;34m\u001b[0m\n",
      "\u001b[0;34m\u001b[0m    \u001b[0ma\u001b[0m\u001b[0;34m,\u001b[0m \u001b[0mb\u001b[0m \u001b[0;34m=\u001b[0m \u001b[0;36m0\u001b[0m\u001b[0;34m,\u001b[0m \u001b[0;36m1\u001b[0m\u001b[0;34m\u001b[0m\n",
      "\u001b[0;34m\u001b[0m    \u001b[0;32mwhile\u001b[0m \u001b[0ma\u001b[0m \u001b[0;34m<\u001b[0m \u001b[0mn\u001b[0m\u001b[0;34m:\u001b[0m\u001b[0;34m\u001b[0m\n",
      "\u001b[0;34m\u001b[0m        \u001b[0mresult\u001b[0m\u001b[0;34m.\u001b[0m\u001b[0mappend\u001b[0m\u001b[0;34m(\u001b[0m\u001b[0ma\u001b[0m\u001b[0;34m)\u001b[0m    \u001b[0;34m\u001b[0m\n",
      "\u001b[0;34m\u001b[0m        \u001b[0ma\u001b[0m\u001b[0;34m,\u001b[0m \u001b[0mb\u001b[0m \u001b[0;34m=\u001b[0m \u001b[0mb\u001b[0m\u001b[0;34m,\u001b[0m \u001b[0ma\u001b[0m\u001b[0;34m+\u001b[0m\u001b[0mb\u001b[0m\u001b[0;34m\u001b[0m\n",
      "\u001b[0;34m\u001b[0m    \u001b[0;32mreturn\u001b[0m \u001b[0mresult\u001b[0m\u001b[0;34m\u001b[0m\u001b[0;34m\u001b[0m\u001b[0m\n",
      "\u001b[0;31mFile:\u001b[0m      /tmp/ipykernel_39986/1778826631.py\n",
      "\u001b[0;31mType:\u001b[0m      function"
     ]
    }
   ],
   "source": [
    "# We can see the full definition of fib2 function as follows\n",
    "fib2??"
   ]
  },
  {
   "cell_type": "markdown",
   "id": "fb3e268e-50a9-4ea3-859a-149d059aebf7",
   "metadata": {},
   "source": [
    "# Matrices and vectors\n",
    "\n",
    "NumPy implements the most common operations and functions related to matrices and vectors. If you are familiar with Matlab, the best place to start is the guide for [Matlab users](https://numpy.org/doc/stable/user/numpy-for-matlab-users.html#numpy-for-matlab-users). Even if you don't know Matlab, the guide is worth glancing at since it summarizes well the features of NumPy. In addition to what follows, you might want to read also [NumPy: the absolute basics for beginners](https://numpy.org/doc/stable/user/absolute_beginners.html) document.\n",
    "\n",
    "The following examples are adapted from [NumPy quickstart](https://numpy.org/doc/stable/user/quickstart.html#numpy-quickstart) guide. In NumPy's documentation both vectors and matrices are called **arrays**."
   ]
  },
  {
   "cell_type": "markdown",
   "id": "5eadc16e-200b-4124-b382-4c9c65f7020f",
   "metadata": {},
   "source": [
    "## Creation of arrays"
   ]
  },
  {
   "cell_type": "code",
   "execution_count": 24,
   "id": "2447c1cb-99cd-4bd8-9411-a9ae9c4dc58a",
   "metadata": {},
   "outputs": [
    {
     "data": {
      "text/plain": [
       "array([1.2, 3.5, 5.1, 0. ])"
      ]
     },
     "execution_count": 24,
     "metadata": {},
     "output_type": "execute_result"
    }
   ],
   "source": [
    "# Define a vector with 4 elements\n",
    "# Here the vector is created from a list\n",
    "# See Section 3.1.3 of the Python Tutorial for info on lists:\n",
    "# https://docs.python.org/3/tutorial/introduction.html#lists\n",
    "np.array([1.2, 3.5, 5.1, 0])"
   ]
  },
  {
   "cell_type": "code",
   "execution_count": 25,
   "id": "d937b380-4738-4bca-bc25-9a733bc1be7f",
   "metadata": {},
   "outputs": [
    {
     "data": {
      "text/plain": [
       "array([[0., 0., 0., 0.],\n",
       "       [0., 0., 0., 0.],\n",
       "       [0., 0., 0., 0.]])"
      ]
     },
     "execution_count": 25,
     "metadata": {},
     "output_type": "execute_result"
    }
   ],
   "source": [
    "# Create 3 x 4 matrix full of zeros\n",
    "np.zeros((3, 4))"
   ]
  },
  {
   "cell_type": "code",
   "execution_count": 26,
   "id": "6a94552b-2619-417d-8ff9-0c74385219b9",
   "metadata": {},
   "outputs": [
    {
     "data": {
      "text/plain": [
       "array([[1., 0.],\n",
       "       [0., 1.]])"
      ]
     },
     "execution_count": 26,
     "metadata": {},
     "output_type": "execute_result"
    }
   ],
   "source": [
    "# Create 2 x 2 identity matrix \n",
    "# (You can also use np.eye if you are used to eye in Matlab)  \n",
    "np.identity(2)"
   ]
  },
  {
   "cell_type": "code",
   "execution_count": 27,
   "id": "8f671fae-87e7-4037-943c-0577c362f159",
   "metadata": {},
   "outputs": [
    {
     "data": {
      "text/plain": [
       "array([1., 1., 1.])"
      ]
     },
     "execution_count": 27,
     "metadata": {},
     "output_type": "execute_result"
    }
   ],
   "source": [
    "# Create vector of length 3 full of ones\n",
    "np.ones(3)"
   ]
  },
  {
   "cell_type": "code",
   "execution_count": 28,
   "id": "3b393a87-f46c-43fa-8b21-b93955dbb64d",
   "metadata": {},
   "outputs": [
    {
     "data": {
      "text/plain": [
       "array([0.1, 0.1, 0.1])"
      ]
     },
     "execution_count": 28,
     "metadata": {},
     "output_type": "execute_result"
    }
   ],
   "source": [
    "# Create vector of length 3 full of numbers 0.1\n",
    "np.full(3, 0.1)"
   ]
  },
  {
   "cell_type": "code",
   "execution_count": 29,
   "id": "30639b76-b2c1-4440-9d24-929da17a054e",
   "metadata": {},
   "outputs": [
    {
     "data": {
      "text/plain": [
       "array([0.  , 0.25, 0.5 , 0.75, 1.  , 1.25, 1.5 , 1.75, 2.  ])"
      ]
     },
     "execution_count": 29,
     "metadata": {},
     "output_type": "execute_result"
    }
   ],
   "source": [
    "# Create a vector with 9 evenly spaced numbers between 0 and 2\n",
    "np.linspace(0, 2, 9)"
   ]
  },
  {
   "cell_type": "code",
   "execution_count": 30,
   "id": "b741eebf-5c74-4a54-bad7-2321a0a05c85",
   "metadata": {},
   "outputs": [
    {
     "data": {
      "text/plain": [
       "array([[1., 0., 0.],\n",
       "       [0., 2., 0.],\n",
       "       [0., 0., 3.]])"
      ]
     },
     "execution_count": 30,
     "metadata": {},
     "output_type": "execute_result"
    }
   ],
   "source": [
    "# Create diagonal matrix with 1, 2 and 3 on the diagonal\n",
    "np.diag(np.linspace(1,3,3))"
   ]
  },
  {
   "cell_type": "code",
   "execution_count": 31,
   "id": "c6e847fe-7821-44a3-b0a9-e4d567a3b343",
   "metadata": {},
   "outputs": [
    {
     "data": {
      "text/plain": [
       "array([[11., 12., 13., 14.],\n",
       "       [21., 22., 23., 24.],\n",
       "       [31., 32., 33., 34.],\n",
       "       [41., 42., 43., 44.],\n",
       "       [51., 52., 53., 54.]])"
      ]
     },
     "execution_count": 31,
     "metadata": {},
     "output_type": "execute_result"
    }
   ],
   "source": [
    "# Create a 5 x 4 matrix given a function\n",
    "def f(i, j):\n",
    "    return 10 * (i+1) + (j+1)\n",
    "np.fromfunction(f, (5, 4))"
   ]
  },
  {
   "cell_type": "code",
   "execution_count": 32,
   "id": "aa6231f0-ee44-4037-9622-0838e4af2763",
   "metadata": {},
   "outputs": [
    {
     "data": {
      "text/plain": [
       "array([[11., 12., 13., 14.],\n",
       "       [21., 22., 23., 24.],\n",
       "       [31., 32., 33., 34.],\n",
       "       [41., 42., 43., 44.],\n",
       "       [51., 52., 53., 54.]])"
      ]
     },
     "execution_count": 32,
     "metadata": {},
     "output_type": "execute_result"
    }
   ],
   "source": [
    "# As in the previous example, often we really want to use indexing starting from 1\n",
    "# One way to achieve this is as follows \n",
    "def element(i0, j0):\n",
    "    i, j = i0+1, j0+1 # change to indexing starting from 1\n",
    "    return 10 * i + j\n",
    "np.fromfunction(element, (5, 4))"
   ]
  },
  {
   "cell_type": "code",
   "execution_count": 33,
   "id": "68565259-19c7-443a-81e8-51c59b553535",
   "metadata": {},
   "outputs": [
    {
     "data": {
      "text/plain": [
       "array([0.   , 0.002, 0.004, ..., 1.996, 1.998, 2.   ])"
      ]
     },
     "execution_count": 33,
     "metadata": {},
     "output_type": "execute_result"
    }
   ],
   "source": [
    "# If an array is too large to be printed,\n",
    "# NumPy automatically skips the central part of the array and only prints the corners\n",
    "np.linspace(0, 2, 1001)"
   ]
  },
  {
   "cell_type": "code",
   "execution_count": 34,
   "id": "c668ebb7-0d85-4c09-8dfb-bbe294ec0949",
   "metadata": {},
   "outputs": [
    {
     "data": {
      "text/plain": [
       "1000"
      ]
     },
     "execution_count": 34,
     "metadata": {},
     "output_type": "execute_result"
    }
   ],
   "source": [
    "# This behaviour is controlled by threshold in printoptions, see\n",
    "# https://numpy.org/doc/stable/reference/generated/numpy.set_printoptions.html#numpy-set-printoptions\n",
    "# Funtion get_printoptions returns the options as a dictionary.\n",
    "# For more info on dictionaries see Section 5.5 of the Python Tutorial\n",
    "# https://docs.python.org/3/tutorial/datastructures.html#dictionaries\n",
    "np.get_printoptions()['threshold']"
   ]
  },
  {
   "cell_type": "markdown",
   "id": "7c5f86aa-0faa-4cb6-89a4-c0abe17aa9f9",
   "metadata": {},
   "source": [
    "## Elements and parts of a vector"
   ]
  },
  {
   "cell_type": "code",
   "execution_count": 35,
   "id": "ad3945e5-c365-4150-9787-8ae8fe033ccb",
   "metadata": {},
   "outputs": [
    {
     "data": {
      "text/plain": [
       "array([1., 2., 3., 4., 5., 6., 7., 8., 9.])"
      ]
     },
     "execution_count": 35,
     "metadata": {},
     "output_type": "execute_result"
    }
   ],
   "source": [
    "# Create vector with numbers from 1 to 9\n",
    "v = np.linspace(1, 9, 9)\n",
    "v"
   ]
  },
  {
   "cell_type": "code",
   "execution_count": 36,
   "id": "f289a393-2c00-4e66-ab66-179ba85cd2dc",
   "metadata": {},
   "outputs": [
    {
     "name": "stdout",
     "output_type": "stream",
     "text": [
      "v[0] = 1.0, v[1] = 2.0, and v[8] = 9.0\n"
     ]
    }
   ],
   "source": [
    "# Print some elements of v\n",
    "print(f'v[0] = {v[0]}, v[1] = {v[1]}, and v[8] = {v[8]}') "
   ]
  },
  {
   "cell_type": "code",
   "execution_count": 37,
   "id": "5fb6efc1-5a53-481e-91f1-3890977859a7",
   "metadata": {},
   "outputs": [
    {
     "data": {
      "text/plain": [
       "array([3., 4., 5.])"
      ]
     },
     "execution_count": 37,
     "metadata": {},
     "output_type": "execute_result"
    }
   ],
   "source": [
    "# A part of v\n",
    "v[2:5]"
   ]
  },
  {
   "cell_type": "code",
   "execution_count": 38,
   "id": "c8a2e267-ba3d-4100-bbc5-00f27bcc8c76",
   "metadata": {},
   "outputs": [
    {
     "data": {
      "text/plain": [
       "array([1., 2., 3., 4., 5.])"
      ]
     },
     "execution_count": 38,
     "metadata": {},
     "output_type": "execute_result"
    }
   ],
   "source": [
    "# A part of v, starting from the first element\n",
    "v[:5]"
   ]
  },
  {
   "cell_type": "code",
   "execution_count": 39,
   "id": "f7eecec9-b4e4-49fb-941e-58eebff808f1",
   "metadata": {},
   "outputs": [
    {
     "data": {
      "text/plain": [
       "array([3., 4., 5., 6., 7., 8., 9.])"
      ]
     },
     "execution_count": 39,
     "metadata": {},
     "output_type": "execute_result"
    }
   ],
   "source": [
    "# A part of v, ending to the last element\n",
    "v[2:]"
   ]
  },
  {
   "cell_type": "code",
   "execution_count": 40,
   "id": "83bbc286-7f14-4251-9207-66a194741578",
   "metadata": {},
   "outputs": [
    {
     "data": {
      "text/plain": [
       "array([1., 3., 5.])"
      ]
     },
     "execution_count": 40,
     "metadata": {},
     "output_type": "execute_result"
    }
   ],
   "source": [
    "# From start to position 6, exclusive, every 2nd element\n",
    "v[:6:2] "
   ]
  },
  {
   "cell_type": "code",
   "execution_count": 41,
   "id": "4f1ac612-4a9f-4c25-810d-5f5404a9e7da",
   "metadata": {},
   "outputs": [
    {
     "data": {
      "text/plain": [
       "array([9., 8., 7., 6., 5., 4., 3., 2., 1.])"
      ]
     },
     "execution_count": 41,
     "metadata": {},
     "output_type": "execute_result"
    }
   ],
   "source": [
    "# Reversed v\n",
    "v[::-1]  "
   ]
  },
  {
   "cell_type": "code",
   "execution_count": 42,
   "id": "1ae246fb-c2d1-40ea-a475-3038152c1fc2",
   "metadata": {},
   "outputs": [
    {
     "data": {
      "text/plain": [
       "array([2., 3., 8.])"
      ]
     },
     "execution_count": 42,
     "metadata": {},
     "output_type": "execute_result"
    }
   ],
   "source": [
    "# Several elements at once\n",
    "v[[1,2,7]]"
   ]
  },
  {
   "cell_type": "code",
   "execution_count": 43,
   "id": "1c509f8c-e535-4526-b76c-0380f75123e5",
   "metadata": {},
   "outputs": [
    {
     "data": {
      "text/plain": [
       "9.0"
      ]
     },
     "execution_count": 43,
     "metadata": {},
     "output_type": "execute_result"
    }
   ],
   "source": [
    "# Last element\n",
    "v[-1]"
   ]
  },
  {
   "cell_type": "code",
   "execution_count": 44,
   "id": "7596218c-7004-4e2a-b3d2-4a0b0a8eb300",
   "metadata": {},
   "outputs": [
    {
     "data": {
      "text/plain": [
       "8.0"
      ]
     },
     "execution_count": 44,
     "metadata": {},
     "output_type": "execute_result"
    }
   ],
   "source": [
    "# Next to last element\n",
    "v[-2]"
   ]
  },
  {
   "cell_type": "code",
   "execution_count": 45,
   "id": "e492be95-a621-45c4-b854-d7ecf8864d82",
   "metadata": {},
   "outputs": [
    {
     "data": {
      "text/plain": [
       "array([0., 0., 3., 4., 5., 6., 7., 8., 9.])"
      ]
     },
     "execution_count": 45,
     "metadata": {},
     "output_type": "execute_result"
    }
   ],
   "source": [
    "# The above expressions can also be used to modify vectors\n",
    "# Set the first two elements to zero\n",
    "v[:2] = 0\n",
    "v"
   ]
  },
  {
   "cell_type": "code",
   "execution_count": 46,
   "id": "cc316f51-0561-45dc-a91a-c0719489f5bc",
   "metadata": {},
   "outputs": [
    {
     "name": "stdout",
     "output_type": "stream",
     "text": [
      "0.0\n",
      "0.0\n",
      "3.0\n",
      "4.0\n",
      "5.0\n",
      "6.0\n",
      "7.0\n",
      "8.0\n",
      "9.0\n"
     ]
    }
   ],
   "source": [
    "# Iterate over elements\n",
    "for element in v:\n",
    "    print(element)"
   ]
  },
  {
   "cell_type": "markdown",
   "id": "d48fca4d-aecd-4623-b595-57189e06427b",
   "metadata": {},
   "source": [
    "## Elements and parts of a matrix"
   ]
  },
  {
   "cell_type": "code",
   "execution_count": 47,
   "id": "c894e7f8-98af-47eb-82c7-1c276c2c0807",
   "metadata": {},
   "outputs": [
    {
     "data": {
      "text/plain": [
       "array([[11., 12., 13., 14.],\n",
       "       [21., 22., 23., 24.],\n",
       "       [31., 32., 33., 34.],\n",
       "       [41., 42., 43., 44.],\n",
       "       [51., 52., 53., 54.]])"
      ]
     },
     "execution_count": 47,
     "metadata": {},
     "output_type": "execute_result"
    }
   ],
   "source": [
    "# Create a 5 x 4 matrix\n",
    "def element(i0, j0):\n",
    "    i, j = i0+1, j0+1 # change to indexing starting from 1\n",
    "    return 10 * i + j\n",
    "m = np.fromfunction(element, (5, 4))\n",
    "m"
   ]
  },
  {
   "cell_type": "code",
   "execution_count": 48,
   "id": "0d6265b9-d744-4584-8a67-b58b733c03ba",
   "metadata": {},
   "outputs": [
    {
     "data": {
      "text/plain": [
       "34.0"
      ]
     },
     "execution_count": 48,
     "metadata": {},
     "output_type": "execute_result"
    }
   ],
   "source": [
    "# A single element\n",
    "m[2, 3]"
   ]
  },
  {
   "cell_type": "code",
   "execution_count": 49,
   "id": "e99c1f01-d477-4dcf-867a-656970ba7918",
   "metadata": {},
   "outputs": [
    {
     "data": {
      "text/plain": [
       "array([12., 22., 32., 42., 52.])"
      ]
     },
     "execution_count": 49,
     "metadata": {},
     "output_type": "execute_result"
    }
   ],
   "source": [
    "# Each row in the second column of b\n",
    "m[0:5, 1]  "
   ]
  },
  {
   "cell_type": "code",
   "execution_count": 50,
   "id": "fea3cafd-9ea8-49a4-897b-a83031f1c64f",
   "metadata": {},
   "outputs": [
    {
     "data": {
      "text/plain": [
       "array([12., 22., 32., 42., 52.])"
      ]
     },
     "execution_count": 50,
     "metadata": {},
     "output_type": "execute_result"
    }
   ],
   "source": [
    "# Equivalent to the previous example\n",
    "m[:, 1]    "
   ]
  },
  {
   "cell_type": "code",
   "execution_count": 51,
   "id": "f4c4fb46-51a1-4569-b825-5218743aa698",
   "metadata": {},
   "outputs": [
    {
     "data": {
      "text/plain": [
       "array([11., 12., 13., 14.])"
      ]
     },
     "execution_count": 51,
     "metadata": {},
     "output_type": "execute_result"
    }
   ],
   "source": [
    "# First row\n",
    "m[0, :]  "
   ]
  },
  {
   "cell_type": "code",
   "execution_count": 52,
   "id": "ac1ecba5-c738-4799-b360-7d9b199823d1",
   "metadata": {},
   "outputs": [
    {
     "data": {
      "text/plain": [
       "array([11., 12., 13., 14.])"
      ]
     },
     "execution_count": 52,
     "metadata": {},
     "output_type": "execute_result"
    }
   ],
   "source": [
    "# Equivalent to the previous example\n",
    "m[0]"
   ]
  },
  {
   "cell_type": "code",
   "execution_count": 53,
   "id": "7a3976da-dad4-484b-aef3-6691a917b826",
   "metadata": {},
   "outputs": [
    {
     "data": {
      "text/plain": [
       "array([[11., 12., 13., 14.],\n",
       "       [51., 52., 53., 54.]])"
      ]
     },
     "execution_count": 53,
     "metadata": {},
     "output_type": "execute_result"
    }
   ],
   "source": [
    "# First and last rows\n",
    "m[[0,-1]] "
   ]
  },
  {
   "cell_type": "code",
   "execution_count": 54,
   "id": "db5ab9c9-71a8-4920-ab27-9e264910762c",
   "metadata": {},
   "outputs": [
    {
     "data": {
      "text/plain": [
       "array([[11., 12.],\n",
       "       [21., 22.]])"
      ]
     },
     "execution_count": 54,
     "metadata": {},
     "output_type": "execute_result"
    }
   ],
   "source": [
    "# Top left 2 x 2 block\n",
    "m[:2, :2]"
   ]
  },
  {
   "cell_type": "code",
   "execution_count": 55,
   "id": "7f4b53b5-af6e-45ea-ab93-8b84c3d6e746",
   "metadata": {},
   "outputs": [
    {
     "data": {
      "text/plain": [
       "array([[11., 12., 13., 14.],\n",
       "       [21., 22., 23., 24.],\n",
       "       [31., 32., 33., 34.],\n",
       "       [41., 42., 43., 44.],\n",
       "       [ 0.,  0.,  0.,  0.]])"
      ]
     },
     "execution_count": 55,
     "metadata": {},
     "output_type": "execute_result"
    }
   ],
   "source": [
    "# The above expressions can also be used to modify matrices\n",
    "# Set the last row to zero\n",
    "m[-1] = 0\n",
    "m"
   ]
  },
  {
   "cell_type": "code",
   "execution_count": 56,
   "id": "54dc2b30-2fca-44f7-acfc-3ad88ea4d3c5",
   "metadata": {},
   "outputs": [
    {
     "data": {
      "text/plain": [
       "array([11., 22., 33., 44.])"
      ]
     },
     "execution_count": 56,
     "metadata": {},
     "output_type": "execute_result"
    }
   ],
   "source": [
    "# The diagonal of a 4 x 4 submatrix\n",
    "np.diag(m[0:4])"
   ]
  },
  {
   "cell_type": "code",
   "execution_count": 57,
   "id": "02d4b9cd-1157-405e-85af-f30b09d54f97",
   "metadata": {},
   "outputs": [
    {
     "name": "stdout",
     "output_type": "stream",
     "text": [
      "[11. 12. 13. 14.]\n",
      "[21. 22. 23. 24.]\n",
      "[31. 32. 33. 34.]\n",
      "[41. 42. 43. 44.]\n",
      "[0. 0. 0. 0.]\n"
     ]
    }
   ],
   "source": [
    "# Iterating over multidimensional arrays is done with respect to the first axis:\n",
    "for row in m:\n",
    "    print(row)"
   ]
  },
  {
   "cell_type": "code",
   "execution_count": 58,
   "id": "6561b858-5669-4b5b-93c9-db860074e487",
   "metadata": {},
   "outputs": [
    {
     "name": "stdout",
     "output_type": "stream",
     "text": [
      "11.0\n",
      "12.0\n",
      "13.0\n",
      "14.0\n",
      "21.0\n",
      "22.0\n",
      "23.0\n",
      "24.0\n",
      "31.0\n",
      "32.0\n",
      "33.0\n",
      "34.0\n",
      "41.0\n",
      "42.0\n",
      "43.0\n",
      "44.0\n",
      "0.0\n",
      "0.0\n",
      "0.0\n",
      "0.0\n"
     ]
    }
   ],
   "source": [
    "# However, if one wants to perform an operation on each element in the array, \n",
    "# one can use the flat attribute which is an iterator over all the elements:\n",
    "for element in m.flat:\n",
    "    print(element)"
   ]
  },
  {
   "cell_type": "markdown",
   "id": "7523fb60-7494-4d6b-93db-a430c6f48322",
   "metadata": {},
   "source": [
    "## On data types\n",
    "\n",
    "NumPy allows for creation of arrays whose values are not stored as floating point numbers, for example, arrays of integers. This can cause trouble sometimes. (This is one of the couple of ways in which Matlab is more convenient to use than NumPy. In my opinion, the great open source ecosystem around NumPy outweighs this minor inconvenience, though.) \n",
    "\n",
    "If you don't specify the data type explicitly when creating an array from list using `array`, then the type will be determined as the minimum type required to hold the objects in the list."
   ]
  },
  {
   "cell_type": "code",
   "execution_count": 59,
   "id": "84d3ca0c-726d-46bd-b5b6-278382d800bf",
   "metadata": {},
   "outputs": [
    {
     "data": {
      "text/plain": [
       "dtype('int64')"
      ]
     },
     "execution_count": 59,
     "metadata": {},
     "output_type": "execute_result"
    }
   ],
   "source": [
    "array_of_ints = np.array([\n",
    "[1,2,3],\n",
    "[2,4,5],\n",
    "[3,5,6],\n",
    "])\n",
    "array_of_ints.dtype"
   ]
  },
  {
   "cell_type": "code",
   "execution_count": 60,
   "id": "83cf574e-0102-4f94-8ced-a5c2478c72b8",
   "metadata": {},
   "outputs": [
    {
     "data": {
      "text/plain": [
       "array([[0.5, 1. , 1.5],\n",
       "       [1. , 2. , 2.5],\n",
       "       [1.5, 2.5, 3. ]])"
      ]
     },
     "execution_count": 60,
     "metadata": {},
     "output_type": "execute_result"
    }
   ],
   "source": [
    "# We get the expected result with\n",
    "0.5 * array_of_ints"
   ]
  },
  {
   "cell_type": "code",
   "execution_count": 61,
   "id": "52860bf6-bf3d-4225-bd67-ac6afcdb48d1",
   "metadata": {},
   "outputs": [
    {
     "data": {
      "text/plain": [
       "array([[0, 1, 1],\n",
       "       [2, 4, 5],\n",
       "       [3, 5, 6]])"
      ]
     },
     "execution_count": 61,
     "metadata": {},
     "output_type": "execute_result"
    }
   ],
   "source": [
    "# However, the following rounds to integers\n",
    "array_of_ints[0] = 0.5 * array_of_ints[0]\n",
    "array_of_ints"
   ]
  },
  {
   "cell_type": "code",
   "execution_count": 62,
   "id": "d1fab8a0-265f-4163-8e38-4d0199a55b55",
   "metadata": {},
   "outputs": [
    {
     "data": {
      "text/plain": [
       "dtype('float64')"
      ]
     },
     "execution_count": 62,
     "metadata": {},
     "output_type": "execute_result"
    }
   ],
   "source": [
    "# Let's start over and tell that we want to work with floats\n",
    "array_of_floats = np.array([\n",
    "[1,2,3],\n",
    "[2,4,5],\n",
    "[3,5,6],\n",
    "], dtype=float)\n",
    "array_of_floats.dtype"
   ]
  },
  {
   "cell_type": "code",
   "execution_count": 63,
   "id": "447ba17b-9339-4d79-9b03-0f01df92238b",
   "metadata": {},
   "outputs": [
    {
     "data": {
      "text/plain": [
       "array([[0.5, 1. , 1.5],\n",
       "       [2. , 4. , 5. ],\n",
       "       [3. , 5. , 6. ]])"
      ]
     },
     "execution_count": 63,
     "metadata": {},
     "output_type": "execute_result"
    }
   ],
   "source": [
    "array_of_floats[0] = 0.5 * array_of_floats[0]\n",
    "array_of_floats"
   ]
  },
  {
   "cell_type": "markdown",
   "id": "6816c5b7-8c18-4d3d-804d-28683e1c2cef",
   "metadata": {},
   "source": [
    "## Basic operations"
   ]
  },
  {
   "cell_type": "code",
   "execution_count": 64,
   "id": "bee82c9b-4129-41cc-98e4-de82f9da71f1",
   "metadata": {},
   "outputs": [
    {
     "name": "stdout",
     "output_type": "stream",
     "text": [
      "shape of v is (9,) and shape of m is (5, 4)\n",
      "size of v is 9 and size of m is 20\n"
     ]
    }
   ],
   "source": [
    "# Let's use again our old friends v and m \n",
    "v = np.linspace(1, 9, 9)\n",
    "def element(i0, j0):\n",
    "    i, j = i0+1, j0+1 # change to indexing starting from 1\n",
    "    return 10 * i + j\n",
    "m = np.fromfunction(element, (5, 4))\n",
    "\n",
    "# Dimensions of v and m\n",
    "print(f'shape of v is {np.shape(v)} and shape of m is {np.shape(m)}')\n",
    "# Number of elements in v and m\n",
    "print(f'size of v is {np.size(v)} and size of m is {np.size(m)}')"
   ]
  },
  {
   "cell_type": "code",
   "execution_count": 65,
   "id": "fcdddc28-4542-422c-bbe0-4af038592c3e",
   "metadata": {},
   "outputs": [
    {
     "data": {
      "text/plain": [
       "array([1.1, 2.1, 3.1, 4.1, 5.1, 6.1, 7.1, 8.1, 9.1])"
      ]
     },
     "execution_count": 65,
     "metadata": {},
     "output_type": "execute_result"
    }
   ],
   "source": [
    "# Arithmetic operators on arrays apply elementwise.\n",
    "# A new array is created and filled with the result.\n",
    "w = v + 0.1 * np.ones(9)\n",
    "w"
   ]
  },
  {
   "cell_type": "code",
   "execution_count": 66,
   "id": "5f56c451-ef67-4411-a583-9378ae8081f4",
   "metadata": {},
   "outputs": [
    {
     "data": {
      "text/plain": [
       "array([ 8.41470985,  9.09297427,  1.41120008, -7.56802495, -9.58924275,\n",
       "       -2.79415498,  6.56986599,  9.89358247,  4.12118485])"
      ]
     },
     "execution_count": 66,
     "metadata": {},
     "output_type": "execute_result"
    }
   ],
   "source": [
    "# Many mathematical functions apply elementwise\n",
    "10 * np.sin(v)"
   ]
  },
  {
   "cell_type": "code",
   "execution_count": 67,
   "id": "0ffd851c-d0ad-48c8-bbfa-8aa1253545a4",
   "metadata": {},
   "outputs": [
    {
     "data": {
      "text/plain": [
       "array([[5., 4.],\n",
       "       [3., 4.]])"
      ]
     },
     "execution_count": 67,
     "metadata": {},
     "output_type": "execute_result"
    }
   ],
   "source": [
    "# The matrix product can be performed using the @ operator\n",
    "A = np.array([\n",
    "[1, 1],\n",
    "[0, 1],\n",
    "], dtype=float)\n",
    "B = np.array([\n",
    "[2, 0],\n",
    "[3, 4],\n",
    "], dtype=float)\n",
    "A @ B"
   ]
  },
  {
   "cell_type": "code",
   "execution_count": 68,
   "id": "f6bd1f03-97c6-4107-a1fb-cf46d02f1e90",
   "metadata": {},
   "outputs": [
    {
     "data": {
      "text/plain": [
       "array([[3., 3., 3.],\n",
       "       [3., 3., 3.]])"
      ]
     },
     "execution_count": 68,
     "metadata": {},
     "output_type": "execute_result"
    }
   ],
   "source": [
    "# Some operations, such as += and *=, act in place to modify an existing array rather than create a new one.\n",
    "a = np.ones((2, 3)) # 2 x 3 matrix full of ones\n",
    "a *= 3\n",
    "a"
   ]
  },
  {
   "cell_type": "code",
   "execution_count": 69,
   "id": "0b14e1d7-7581-4640-a277-f17f43af7beb",
   "metadata": {},
   "outputs": [
    {
     "data": {
      "text/plain": [
       "array([[3.60072242, 3.60768049, 3.98752379],\n",
       "       [3.55371776, 3.05019133, 3.95869426]])"
      ]
     },
     "execution_count": 69,
     "metadata": {},
     "output_type": "execute_result"
    }
   ],
   "source": [
    "# Let's use some random numbers for our next example matrix\n",
    "rg = np.random.default_rng() # create instance of default random number generator\n",
    "b = rg.random((2, 3)) # 2 x 3 matrix full of uniform random numbers in the interval [0,1)\n",
    "b += a\n",
    "b"
   ]
  },
  {
   "cell_type": "code",
   "execution_count": 70,
   "id": "105bca34-b972-490c-98ac-fdbcd4bf7377",
   "metadata": {},
   "outputs": [
    {
     "data": {
      "text/plain": [
       "21.758530036006025"
      ]
     },
     "execution_count": 70,
     "metadata": {},
     "output_type": "execute_result"
    }
   ],
   "source": [
    "# By default, unary operations apply to the array as though it were a list of numbers, regardless of its shape. \n",
    "np.sum(b)    # sum of all elements"
   ]
  },
  {
   "cell_type": "code",
   "execution_count": 71,
   "id": "40e1491c-25ef-4b5d-a1de-a4bbbc474706",
   "metadata": {},
   "outputs": [
    {
     "data": {
      "text/plain": [
       "array([7.15444018, 6.65787182, 7.94621804])"
      ]
     },
     "execution_count": 71,
     "metadata": {},
     "output_type": "execute_result"
    }
   ],
   "source": [
    "# However, by specifying the axis parameter you can apply an operation along the specified axis of an array:\n",
    "np.sum(b, axis=0)    # sum of each column"
   ]
  },
  {
   "cell_type": "code",
   "execution_count": 72,
   "id": "548d417b-e7d1-4b53-92bc-ce462469cc02",
   "metadata": {},
   "outputs": [
    {
     "data": {
      "text/plain": [
       "array([3.60072242, 3.05019133])"
      ]
     },
     "execution_count": 72,
     "metadata": {},
     "output_type": "execute_result"
    }
   ],
   "source": [
    "np.min(b, axis=1)    # min of each row"
   ]
  },
  {
   "cell_type": "markdown",
   "id": "ea02f1cd-3118-40e8-a9f5-c95b90ae700f",
   "metadata": {},
   "source": [
    "## Copies and views"
   ]
  },
  {
   "cell_type": "code",
   "execution_count": 73,
   "id": "72a4f220-6510-4f92-bb2c-a5fb77086466",
   "metadata": {},
   "outputs": [
    {
     "data": {
      "text/plain": [
       "True"
      ]
     },
     "execution_count": 73,
     "metadata": {},
     "output_type": "execute_result"
    }
   ],
   "source": [
    "# Simple assignments or function calls make no copies.\n",
    "a = np.array([\n",
    "[ 0,  1,  2,  3],\n",
    "[ 4,  5,  6,  7],\n",
    "[ 8,  9, 10, 11],\n",
    "], dtype=float)\n",
    "b = a    # no new array is created\n",
    "b is a   # a and b are two names for the array"
   ]
  },
  {
   "cell_type": "code",
   "execution_count": 74,
   "id": "aac513c6-b365-45d0-98db-8583541466c2",
   "metadata": {},
   "outputs": [
    {
     "data": {
      "text/plain": [
       "array([[-100.,    1.,    2.,    3.],\n",
       "       [   4.,    5.,    6.,    7.],\n",
       "       [   8.,    9.,   10.,   11.]])"
      ]
     },
     "execution_count": 74,
     "metadata": {},
     "output_type": "execute_result"
    }
   ],
   "source": [
    "b[0,0] = -100\n",
    "a"
   ]
  },
  {
   "cell_type": "code",
   "execution_count": 75,
   "id": "715dc46d-2c8b-4d28-bbe5-078ad5a79dd3",
   "metadata": {},
   "outputs": [
    {
     "data": {
      "text/plain": [
       "array([[-200.,    1.,    2.,    3.],\n",
       "       [   4.,    5.,    6.,    7.],\n",
       "       [   8.,    9.,   10.,   11.]])"
      ]
     },
     "execution_count": 75,
     "metadata": {},
     "output_type": "execute_result"
    }
   ],
   "source": [
    "# Slicing an array returns a view of it, not a copy.\n",
    "s = a[:, 0:1]\n",
    "s[0,0] = -200\n",
    "a"
   ]
  },
  {
   "cell_type": "code",
   "execution_count": 76,
   "id": "2ee5b28e-4fde-44eb-819f-20d5f9966da5",
   "metadata": {},
   "outputs": [
    {
     "data": {
      "text/plain": [
       "array([[-200.,    1.,    2.,    3.],\n",
       "       [   4.,    5.,    6.,    7.],\n",
       "       [   8.,    9.,   10.,   11.]])"
      ]
     },
     "execution_count": 76,
     "metadata": {},
     "output_type": "execute_result"
    }
   ],
   "source": [
    "# The copy method makes a complete copy of the array and its data.\n",
    "d = a.copy()\n",
    "d[0, 0] = 9999\n",
    "a"
   ]
  },
  {
   "cell_type": "markdown",
   "id": "fb126dfc-8047-4b39-b51b-ffb4cda8c3c9",
   "metadata": {},
   "source": [
    "## Changing the shape of an array\n",
    "\n",
    "The shape of an array can be changed with various commands. \n",
    "Note that the following three commands all return a modified array, \n",
    "but do not change the original array.\n",
    "(If you want to change it, use resize.)"
   ]
  },
  {
   "cell_type": "code",
   "execution_count": 77,
   "id": "b7daf66e-43df-4267-9d58-a63f03fc2b08",
   "metadata": {},
   "outputs": [
    {
     "data": {
      "text/plain": [
       "array([[7., 6., 5., 2.],\n",
       "       [8., 5., 6., 9.],\n",
       "       [3., 4., 0., 1.]])"
      ]
     },
     "execution_count": 77,
     "metadata": {},
     "output_type": "execute_result"
    }
   ],
   "source": [
    "a = np.floor(10 * rg.random((3, 4)))\n",
    "a"
   ]
  },
  {
   "cell_type": "code",
   "execution_count": 78,
   "id": "82e4a661-484b-4591-8661-4584086da671",
   "metadata": {},
   "outputs": [
    {
     "data": {
      "text/plain": [
       "array([7., 6., 5., 2., 8., 5., 6., 9., 3., 4., 0., 1.])"
      ]
     },
     "execution_count": 78,
     "metadata": {},
     "output_type": "execute_result"
    }
   ],
   "source": [
    "np.ravel(a)  # returns the array, flattened"
   ]
  },
  {
   "cell_type": "code",
   "execution_count": 79,
   "id": "15407f7c-8952-47d1-a719-503e4a6a51ab",
   "metadata": {},
   "outputs": [
    {
     "data": {
      "text/plain": [
       "array([[7., 6.],\n",
       "       [5., 2.],\n",
       "       [8., 5.],\n",
       "       [6., 9.],\n",
       "       [3., 4.],\n",
       "       [0., 1.]])"
      ]
     },
     "execution_count": 79,
     "metadata": {},
     "output_type": "execute_result"
    }
   ],
   "source": [
    "a.reshape(6, 2)"
   ]
  },
  {
   "cell_type": "code",
   "execution_count": 80,
   "id": "29cc8cfc-fa34-4e21-aa8d-a82460b5e0e7",
   "metadata": {},
   "outputs": [
    {
     "data": {
      "text/plain": [
       "array([[7., 8., 3.],\n",
       "       [6., 5., 4.],\n",
       "       [5., 6., 0.],\n",
       "       [2., 9., 1.]])"
      ]
     },
     "execution_count": 80,
     "metadata": {},
     "output_type": "execute_result"
    }
   ],
   "source": [
    "a.T  # returns the array, transposed"
   ]
  },
  {
   "cell_type": "code",
   "execution_count": 81,
   "id": "f5afc56a-eafe-4bc2-9d27-b3b6ed77c652",
   "metadata": {},
   "outputs": [
    {
     "name": "stdout",
     "output_type": "stream",
     "text": [
      "shape of a.T is (4, 3) and shape of a is (3, 4)\n"
     ]
    }
   ],
   "source": [
    "print(f'shape of a.T is {a.T.shape} and shape of a is {a.shape}')"
   ]
  },
  {
   "cell_type": "markdown",
   "id": "ebc9be6f-45a8-47da-b163-a73911544973",
   "metadata": {},
   "source": [
    "## Stacking arrays\n",
    "\n",
    "Several arrays can be stacked together along different axes.\n",
    "In addition to `row_stack` in the example below, \n",
    "you can experiment with `column_stack`, `vstack` and `hstack`, see\n",
    "the [section](https://numpy.org/doc/stable/user/quickstart.html#stacking-together-different-arrays) on stacking in the quickstart guide. \n",
    "For the opposite effect, that is, splitting, use `vsplit` and `hsplit`, see\n",
    "the [section](https://numpy.org/doc/stable/user/quickstart.html#splitting-one-array-into-several-smaller-ones) on splitting in the quickstart guide."
   ]
  },
  {
   "cell_type": "code",
   "execution_count": 82,
   "id": "66d57a80-97a8-411c-987e-f795e61ad1c1",
   "metadata": {},
   "outputs": [
    {
     "data": {
      "text/plain": [
       "array([[4., 2.],\n",
       "       [3., 8.]])"
      ]
     },
     "execution_count": 82,
     "metadata": {},
     "output_type": "execute_result"
    }
   ],
   "source": [
    "a = np.array([4., 2.])\n",
    "b = np.array([3., 8.])\n",
    "np.row_stack((a, b))"
   ]
  },
  {
   "cell_type": "markdown",
   "id": "168a9fb5-8994-438f-8a96-003a0a351bab",
   "metadata": {},
   "source": [
    "For more advanced topics, see [Less Basic](https://numpy.org/doc/stable/user/quickstart.html#less-basic) section of  the NumPy quickstart guide. For still more advanced things, see [NumPy user guide](https://numpy.org/doc/stable/user/index.html)."
   ]
  },
  {
   "cell_type": "markdown",
   "id": "2254a07d-bf76-4efa-877a-0f9d88a0d95d",
   "metadata": {},
   "source": [
    "# Plotting\n",
    "\n",
    "We will use Pyplot (a part of Matplotlib) that is a collection of functions that work like those in Matlab. For an introdution see [Pyplot tutorial](https://matplotlib.org/stable/tutorials/introductory/pyplot.html#pyplot-tutorial). (Note that when running Pyplot in Jupyter, you don't need to use the show function that you see in many examples.)\n",
    "\n",
    "To enable plotting we need to import Matplotlib package by running the following cell. **If you restart the kernel you need to run the cell again.** In other words, if you get the error message _\"NameError: name 'plt' is not defined\"_, then run the below cell. Note that the import statement does not produce any visible output.\n",
    "\n",
    "Interactive features of Matplotlib can be enabled by using the [ipympl](https://github.com/matplotlib/ipympl) package, but we will not use them. "
   ]
  },
  {
   "cell_type": "code",
   "execution_count": 83,
   "id": "5f3c9492-1445-4088-8448-d6af0f96f95a",
   "metadata": {},
   "outputs": [],
   "source": [
    "import matplotlib.pyplot as plt"
   ]
  },
  {
   "cell_type": "code",
   "execution_count": 84,
   "id": "201dc6e5-33f3-458d-b763-abf06f259102",
   "metadata": {},
   "outputs": [
    {
     "data": {
      "image/png": "[encoded data removed]",
      "text/plain": [
       "<Figure size 640x480 with 1 Axes>"
      ]
     },
     "metadata": {},
     "output_type": "display_data"
    }
   ],
   "source": [
    "# Plot one period of the sin function\n",
    "xs = np.linspace(0, 2*np.pi)\n",
    "ys = np.sin(xs)\n",
    "plt.plot(xs, ys); # ; hides the output of this command"
   ]
  },
  {
   "cell_type": "code",
   "execution_count": 85,
   "id": "885bdf0f-cc51-4c91-9771-6e578d81bf0b",
   "metadata": {},
   "outputs": [
    {
     "name": "stderr",
     "output_type": "stream",
     "text": [
      "<>:9: SyntaxWarning: invalid escape sequence '\\p'\n",
      "<>:9: SyntaxWarning: invalid escape sequence '\\p'\n",
      "<>:9: SyntaxWarning: invalid escape sequence '\\p'\n",
      "<>:9: SyntaxWarning: invalid escape sequence '\\p'\n",
      "<>:9: SyntaxWarning: invalid escape sequence '\\p'\n",
      "<>:9: SyntaxWarning: invalid escape sequence '\\p'\n",
      "<>:9: SyntaxWarning: invalid escape sequence '\\p'\n",
      "<>:9: SyntaxWarning: invalid escape sequence '\\p'\n",
      "/tmp/ipykernel_39986/1612303721.py:9: SyntaxWarning: invalid escape sequence '\\p'\n",
      "  xticklabels = ['0', '$\\pi/2$', '$\\pi$', '$3\\pi/2$', '$2\\pi$'],\n",
      "/tmp/ipykernel_39986/1612303721.py:9: SyntaxWarning: invalid escape sequence '\\p'\n",
      "  xticklabels = ['0', '$\\pi/2$', '$\\pi$', '$3\\pi/2$', '$2\\pi$'],\n",
      "/tmp/ipykernel_39986/1612303721.py:9: SyntaxWarning: invalid escape sequence '\\p'\n",
      "  xticklabels = ['0', '$\\pi/2$', '$\\pi$', '$3\\pi/2$', '$2\\pi$'],\n",
      "/tmp/ipykernel_39986/1612303721.py:9: SyntaxWarning: invalid escape sequence '\\p'\n",
      "  xticklabels = ['0', '$\\pi/2$', '$\\pi$', '$3\\pi/2$', '$2\\pi$'],\n"
     ]
    },
    {
     "data": {
      "image/png": "[encoded data removed]",
      "text/plain": [
       "<Figure size 640x480 with 1 Axes>"
      ]
     },
     "metadata": {},
     "output_type": "display_data"
    }
   ],
   "source": [
    "# Plot both sin and cos with some tuning of the x axis\n",
    "L = 2*np.pi\n",
    "xs = np.linspace(0, L)\n",
    "plt.plot(xs, np.sin(xs), 'b-')   # sin in blue solid line\n",
    "plt.plot(xs, np.cos(xs), 'r--')  # cos in red dashed line\n",
    "plt.gca().set(\n",
    "    xlim = (0, L),   # remove white space on left and right\n",
    "    xticks = np.pi * np.array([0, .5, 1, 1.5, 2]),\n",
    "    xticklabels = ['0', '$\\pi/2$', '$\\pi$', '$3\\pi/2$', '$2\\pi$'],\n",
    "    ); "
   ]
  },
  {
   "cell_type": "code",
   "execution_count": 86,
   "id": "7d5f3b88-9859-4700-894e-bfb1dd16b598",
   "metadata": {},
   "outputs": [
    {
     "name": "stdout",
     "output_type": "stream",
     "text": [
      "\u001b[0;31mSignature:\u001b[0m\n",
      "\u001b[0mplt\u001b[0m\u001b[0;34m.\u001b[0m\u001b[0mplot\u001b[0m\u001b[0;34m(\u001b[0m\u001b[0;34m\u001b[0m\n",
      "\u001b[0;34m\u001b[0m    \u001b[0;34m*\u001b[0m\u001b[0margs\u001b[0m\u001b[0;34m:\u001b[0m \u001b[0;34m'float | ArrayLike | str'\u001b[0m\u001b[0;34m,\u001b[0m\u001b[0;34m\u001b[0m\n",
      "\u001b[0;34m\u001b[0m    \u001b[0mscalex\u001b[0m\u001b[0;34m:\u001b[0m \u001b[0;34m'bool'\u001b[0m \u001b[0;34m=\u001b[0m \u001b[0;32mTrue\u001b[0m\u001b[0;34m,\u001b[0m\u001b[0;34m\u001b[0m\n",
      "\u001b[0;34m\u001b[0m    \u001b[0mscaley\u001b[0m\u001b[0;34m:\u001b[0m \u001b[0;34m'bool'\u001b[0m \u001b[0;34m=\u001b[0m \u001b[0;32mTrue\u001b[0m\u001b[0;34m,\u001b[0m\u001b[0;34m\u001b[0m\n",
      "\u001b[0;34m\u001b[0m    \u001b[0mdata\u001b[0m\u001b[0;34m=\u001b[0m\u001b[0;32mNone\u001b[0m\u001b[0;34m,\u001b[0m\u001b[0;34m\u001b[0m\n",
      "\u001b[0;34m\u001b[0m    \u001b[0;34m**\u001b[0m\u001b[0mkwargs\u001b[0m\u001b[0;34m,\u001b[0m\u001b[0;34m\u001b[0m\n",
      "\u001b[0;34m\u001b[0m\u001b[0;34m)\u001b[0m \u001b[0;34m->\u001b[0m \u001b[0;34m'list[Line2D]'\u001b[0m\u001b[0;34m\u001b[0m\u001b[0;34m\u001b[0m\u001b[0m\n",
      "\u001b[0;31mDocstring:\u001b[0m\n",
      "Plot y versus x as lines and/or markers.\n",
      "\n",
      "Call signatures::\n",
      "\n",
      "    plot([x], y, [fmt], *, data=None, **kwargs)\n",
      "    plot([x], y, [fmt], [x2], y2, [fmt2], ..., **kwargs)\n",
      "\n",
      "The coordinates of the points or line nodes are given by *x*, *y*.\n",
      "\n",
      "The optional parameter *fmt* is a convenient way for defining basic\n",
      "formatting like color, marker and linestyle. It's a shortcut string\n",
      "notation described in the *Notes* section below.\n",
      "\n",
      ">>> plot(x, y)        # plot x and y using default line style and color\n",
      ">>> plot(x, y, 'bo')  # plot x and y using blue circle markers\n",
      ">>> plot(y)           # plot y using x as index array 0..N-1\n",
      ">>> plot(y, 'r+')     # ditto, but with red plusses\n",
      "\n",
      "You can use `.Line2D` properties as keyword arguments for more\n",
      "control on the appearance. Line properties and *fmt* can be mixed.\n",
      "The following two calls yield identical results:\n",
      "\n",
      ">>> plot(x, y, 'go--', linewidth=2, markersize=12)\n",
      ">>> plot(x, y, color='green', marker='o', linestyle='dashed',\n",
      "...      linewidth=2, markersize=12)\n",
      "\n",
      "When conflicting with *fmt*, keyword arguments take precedence.\n",
      "\n",
      "\n",
      "**Plotting labelled data**\n",
      "\n",
      "There's a convenient way for plotting objects with labelled data (i.e.\n",
      "data that can be accessed by index ``obj['y']``). Instead of giving\n",
      "the data in *x* and *y*, you can provide the object in the *data*\n",
      "parameter and just give the labels for *x* and *y*::\n",
      "\n",
      ">>> plot('xlabel', 'ylabel', data=obj)\n",
      "\n",
      "All indexable objects are supported. This could e.g. be a `dict`, a\n",
      "`pandas.DataFrame` or a structured numpy array.\n",
      "\n",
      "\n",
      "**Plotting multiple sets of data**\n",
      "\n",
      "There are various ways to plot multiple sets of data.\n",
      "\n",
      "- The most straight forward way is just to call `plot` multiple times.\n",
      "  Example:\n",
      "\n",
      "  >>> plot(x1, y1, 'bo')\n",
      "  >>> plot(x2, y2, 'go')\n",
      "\n",
      "- If *x* and/or *y* are 2D arrays a separate data set will be drawn\n",
      "  for every column. If both *x* and *y* are 2D, they must have the\n",
      "  same shape. If only one of them is 2D with shape (N, m) the other\n",
      "  must have length N and will be used for every data set m.\n",
      "\n",
      "  Example:\n",
      "\n",
      "  >>> x = [1, 2, 3]\n",
      "  >>> y = np.array([[1, 2], [3, 4], [5, 6]])\n",
      "  >>> plot(x, y)\n",
      "\n",
      "  is equivalent to:\n",
      "\n",
      "  >>> for col in range(y.shape[1]):\n",
      "  ...     plot(x, y[:, col])\n",
      "\n",
      "- The third way is to specify multiple sets of *[x]*, *y*, *[fmt]*\n",
      "  groups::\n",
      "\n",
      "  >>> plot(x1, y1, 'g^', x2, y2, 'g-')\n",
      "\n",
      "  In this case, any additional keyword argument applies to all\n",
      "  datasets. Also, this syntax cannot be combined with the *data*\n",
      "  parameter.\n",
      "\n",
      "By default, each line is assigned a different style specified by a\n",
      "'style cycle'. The *fmt* and line property parameters are only\n",
      "necessary if you want explicit deviations from these defaults.\n",
      "Alternatively, you can also change the style cycle using\n",
      ":rc:`axes.prop_cycle`.\n",
      "\n",
      "\n",
      "Parameters\n",
      "----------\n",
      "x, y : array-like or scalar\n",
      "    The horizontal / vertical coordinates of the data points.\n",
      "    *x* values are optional and default to ``range(len(y))``.\n",
      "\n",
      "    Commonly, these parameters are 1D arrays.\n",
      "\n",
      "    They can also be scalars, or two-dimensional (in that case, the\n",
      "    columns represent separate data sets).\n",
      "\n",
      "    These arguments cannot be passed as keywords.\n",
      "\n",
      "fmt : str, optional\n",
      "    A format string, e.g. 'ro' for red circles. See the *Notes*\n",
      "    section for a full description of the format strings.\n",
      "\n",
      "    Format strings are just an abbreviation for quickly setting\n",
      "    basic line properties. All of these and more can also be\n",
      "    controlled by keyword arguments.\n",
      "\n",
      "    This argument cannot be passed as keyword.\n",
      "\n",
      "data : indexable object, optional\n",
      "    An object with labelled data. If given, provide the label names to\n",
      "    plot in *x* and *y*.\n",
      "\n",
      "    .. note::\n",
      "        Technically there's a slight ambiguity in calls where the\n",
      "        second label is a valid *fmt*. ``plot('n', 'o', data=obj)``\n",
      "        could be ``plt(x, y)`` or ``plt(y, fmt)``. In such cases,\n",
      "        the former interpretation is chosen, but a warning is issued.\n",
      "        You may suppress the warning by adding an empty format string\n",
      "        ``plot('n', 'o', '', data=obj)``.\n",
      "\n",
      "Returns\n",
      "-------\n",
      "list of `.Line2D`\n",
      "    A list of lines representing the plotted data.\n",
      "\n",
      "Other Parameters\n",
      "----------------\n",
      "scalex, scaley : bool, default: True\n",
      "    These parameters determine if the view limits are adapted to the\n",
      "    data limits. The values are passed on to\n",
      "    `~.axes.Axes.autoscale_view`.\n",
      "\n",
      "**kwargs : `~matplotlib.lines.Line2D` properties, optional\n",
      "    *kwargs* are used to specify properties like a line label (for\n",
      "    auto legends), linewidth, antialiasing, marker face color.\n",
      "    Example::\n",
      "\n",
      "    >>> plot([1, 2, 3], [1, 2, 3], 'go-', label='line 1', linewidth=2)\n",
      "    >>> plot([1, 2, 3], [1, 4, 9], 'rs', label='line 2')\n",
      "\n",
      "    If you specify multiple lines with one plot call, the kwargs apply\n",
      "    to all those lines. In case the label object is iterable, each\n",
      "    element is used as labels for each set of data.\n",
      "\n",
      "    Here is a list of available `.Line2D` properties:\n",
      "\n",
      "    Properties:\n",
      "    agg_filter: a filter function, which takes a (m, n, 3) float array and a dpi value, and returns a (m, n, 3) array and two offsets from the bottom left corner of the image\n",
      "    alpha: scalar or None\n",
      "    animated: bool\n",
      "    antialiased or aa: bool\n",
      "    clip_box: `~matplotlib.transforms.BboxBase` or None\n",
      "    clip_on: bool\n",
      "    clip_path: Patch or (Path, Transform) or None\n",
      "    color or c: color\n",
      "    dash_capstyle: `.CapStyle` or {'butt', 'projecting', 'round'}\n",
      "    dash_joinstyle: `.JoinStyle` or {'miter', 'round', 'bevel'}\n",
      "    dashes: sequence of floats (on/off ink in points) or (None, None)\n",
      "    data: (2, N) array or two 1D arrays\n",
      "    drawstyle or ds: {'default', 'steps', 'steps-pre', 'steps-mid', 'steps-post'}, default: 'default'\n",
      "    figure: `~matplotlib.figure.Figure`\n",
      "    fillstyle: {'full', 'left', 'right', 'bottom', 'top', 'none'}\n",
      "    gapcolor: color or None\n",
      "    gid: str\n",
      "    in_layout: bool\n",
      "    label: object\n",
      "    linestyle or ls: {'-', '--', '-.', ':', '', (offset, on-off-seq), ...}\n",
      "    linewidth or lw: float\n",
      "    marker: marker style string, `~.path.Path` or `~.markers.MarkerStyle`\n",
      "    markeredgecolor or mec: color\n",
      "    markeredgewidth or mew: float\n",
      "    markerfacecolor or mfc: color\n",
      "    markerfacecoloralt or mfcalt: color\n",
      "    markersize or ms: float\n",
      "    markevery: None or int or (int, int) or slice or list[int] or float or (float, float) or list[bool]\n",
      "    mouseover: bool\n",
      "    path_effects: list of `.AbstractPathEffect`\n",
      "    picker: float or callable[[Artist, Event], tuple[bool, dict]]\n",
      "    pickradius: float\n",
      "    rasterized: bool\n",
      "    sketch_params: (scale: float, length: float, randomness: float)\n",
      "    snap: bool or None\n",
      "    solid_capstyle: `.CapStyle` or {'butt', 'projecting', 'round'}\n",
      "    solid_joinstyle: `.JoinStyle` or {'miter', 'round', 'bevel'}\n",
      "    transform: unknown\n",
      "    url: str\n",
      "    visible: bool\n",
      "    xdata: 1D array\n",
      "    ydata: 1D array\n",
      "    zorder: float\n",
      "\n",
      "See Also\n",
      "--------\n",
      "scatter : XY scatter plot with markers of varying size and/or color (\n",
      "    sometimes also called bubble chart).\n",
      "\n",
      "Notes\n",
      "-----\n",
      "**Format Strings**\n",
      "\n",
      "A format string consists of a part for color, marker and line::\n",
      "\n",
      "    fmt = '[marker][line][color]'\n",
      "\n",
      "Each of them is optional. If not provided, the value from the style\n",
      "cycle is used. Exception: If ``line`` is given, but no ``marker``,\n",
      "the data will be a line without markers.\n",
      "\n",
      "Other combinations such as ``[color][marker][line]`` are also\n",
      "supported, but note that their parsing may be ambiguous.\n",
      "\n",
      "**Markers**\n",
      "\n",
      "=============   ===============================\n",
      "character       description\n",
      "=============   ===============================\n",
      "``'.'``         point marker\n",
      "``','``         pixel marker\n",
      "``'o'``         circle marker\n",
      "``'v'``         triangle_down marker\n",
      "``'^'``         triangle_up marker\n",
      "``'<'``         triangle_left marker\n",
      "``'>'``         triangle_right marker\n",
      "``'1'``         tri_down marker\n",
      "``'2'``         tri_up marker\n",
      "``'3'``         tri_left marker\n",
      "``'4'``         tri_right marker\n",
      "``'8'``         octagon marker\n",
      "``'s'``         square marker\n",
      "``'p'``         pentagon marker\n",
      "``'P'``         plus (filled) marker\n",
      "``'*'``         star marker\n",
      "``'h'``         hexagon1 marker\n",
      "``'H'``         hexagon2 marker\n",
      "``'+'``         plus marker\n",
      "``'x'``         x marker\n",
      "``'X'``         x (filled) marker\n",
      "``'D'``         diamond marker\n",
      "``'d'``         thin_diamond marker\n",
      "``'|'``         vline marker\n",
      "``'_'``         hline marker\n",
      "=============   ===============================\n",
      "\n",
      "**Line Styles**\n",
      "\n",
      "=============    ===============================\n",
      "character        description\n",
      "=============    ===============================\n",
      "``'-'``          solid line style\n",
      "``'--'``         dashed line style\n",
      "``'-.'``         dash-dot line style\n",
      "``':'``          dotted line style\n",
      "=============    ===============================\n",
      "\n",
      "Example format strings::\n",
      "\n",
      "    'b'    # blue markers with default shape\n",
      "    'or'   # red circles\n",
      "    '-g'   # green solid line\n",
      "    '--'   # dashed line with default color\n",
      "    '^k:'  # black triangle_up markers connected by a dotted line\n",
      "\n",
      "**Colors**\n",
      "\n",
      "The supported color abbreviations are the single letter codes\n",
      "\n",
      "=============    ===============================\n",
      "character        color\n",
      "=============    ===============================\n",
      "``'b'``          blue\n",
      "``'g'``          green\n",
      "``'r'``          red\n",
      "``'c'``          cyan\n",
      "``'m'``          magenta\n",
      "``'y'``          yellow\n",
      "``'k'``          black\n",
      "``'w'``          white\n",
      "=============    ===============================\n",
      "\n",
      "and the ``'CN'`` colors that index into the default property cycle.\n",
      "\n",
      "If the color is the only part of the format string, you can\n",
      "additionally use any  `matplotlib.colors` spec, e.g. full names\n",
      "(``'green'``) or hex strings (``'#008000'``).\n",
      "\u001b[0;31mFile:\u001b[0m      ~/anaconda3/envs/comp-methods/lib/python3.12/site-packages/matplotlib/pyplot.py\n",
      "\u001b[0;31mType:\u001b[0m      function"
     ]
    }
   ],
   "source": [
    "# See the end of the docstring of plt.plot for more formatting options \n",
    "# like 'b-' and 'r--'\n",
    "plt.plot?"
   ]
  },
  {
   "cell_type": "code",
   "execution_count": 87,
   "id": "c0e3fedc-f4e4-4bb7-bd4f-e9e10d190d66",
   "metadata": {},
   "outputs": [
    {
     "data": {
      "image/png": "[encoded data removed]",
      "text/plain": [
       "<Figure size 640x480 with 1 Axes>"
      ]
     },
     "metadata": {},
     "output_type": "display_data"
    },
    {
     "data": {
      "image/png": "[encoded data removed]",
      "text/plain": [
       "<Figure size 640x480 with 1 Axes>"
      ]
     },
     "metadata": {},
     "output_type": "display_data"
    }
   ],
   "source": [
    "# Log-log plots are useful, for example, for showing convergence rates\n",
    "xs = np.linspace(1, 2)\n",
    "ys = xs**2\n",
    "plt.plot(xs, ys)    # plot the function f(x) = x^2 \n",
    "plt.figure()        # create a new figure, otherwise the previous plot is overwritten\n",
    "plt.loglog(xs, ys); # plot the same function f with log scales on both axes "
   ]
  },
  {
   "cell_type": "markdown",
   "id": "a31a595d-237a-48e5-9936-7674aaf70ab1",
   "metadata": {},
   "source": [
    "## Plots in 3d\n",
    "\n",
    "For a summary of 3d plotting see the [mplot3d Toolkit Tutorial](https://matplotlib.org/stable/tutorials/toolkits/mplot3d.html). "
   ]
  },
  {
   "cell_type": "code",
   "execution_count": 88,
   "id": "af91637b-2ca8-476e-afca-f5571315200b",
   "metadata": {},
   "outputs": [
    {
     "data": {
      "image/png": "[encoded data removed]",
      "text/plain": [
       "<Figure size 640x480 with 2 Axes>"
      ]
     },
     "metadata": {},
     "output_type": "display_data"
    }
   ],
   "source": [
    "# Plot a Gaussian function of two variables\n",
    "xs = np.linspace(-1,1)\n",
    "Xs, Ys = np.meshgrid(xs, xs)\n",
    "c = 8\n",
    "Zs = np.exp(-c*(Xs**2 + Ys**2))\n",
    "\n",
    "ax3d = plt.axes(projection='3d')\n",
    "# Use the coolwarm colormap, for other colormaps see \n",
    "# https://matplotlib.org/stable/tutorials/colors/colormaps.html\n",
    "surf = ax3d.plot_surface(Xs, Ys, Zs, cmap='coolwarm')\n",
    "# Add a color bar which maps values to colors.\n",
    "plt.colorbar(surf, shrink=0.5, aspect=5);"
   ]
  },
  {
   "cell_type": "markdown",
   "id": "6ddc0df6-a76b-4134-b02e-66474b6975e4",
   "metadata": {},
   "source": [
    "# Debugging\n",
    "\n",
    "Debugging is the process of finding and resolving bugs (defects or problems that prevent correct operation).\n",
    "Perhaps the simplest way to debug is to print some intermediate results and auxiliary info. While this can be done using the `print` function, it can be convenient to use `logging` package since then the auxiliary debug info can easily be turned on and off. For more info on logging see [Logging HOWTO](https://docs.python.org/3/howto/logging.html).\n",
    "\n",
    "You can also use a debugger by clicking the bug icon in the top right corner (this might not be available in some cloud environments). Then click a line number in the code below to set a breakpoint, and run the code. The debugger will stop at that line, and you can, for example, inspect variables and run the code line by line. See the documentation of [Jupyter](https://jupyterlab.readthedocs.io/en/stable/user/debugger.html#usage) for a brief animation illustrating this."
   ]
  },
  {
   "cell_type": "code",
   "execution_count": 89,
   "id": "7f0fe535-68e2-4471-8ea6-a185eb19bf75",
   "metadata": {},
   "outputs": [
    {
     "name": "stderr",
     "output_type": "stream",
     "text": [
      "DEBUG:root:The matrix after elimination in col 1 \n",
      "[[ 1.  2.  3.]\n",
      " [ 0. -1. -2.]\n",
      " [ 0. -2. -3.]]\n",
      "DEBUG:root:The matrix after elimination in col 2 \n",
      "[[ 1.  2.  3.]\n",
      " [ 0. -1. -2.]\n",
      " [ 0.  0.  1.]]\n"
     ]
    },
    {
     "name": "stdout",
     "output_type": "stream",
     "text": [
      "Original matrix\n",
      "[[1. 2. 3.]\n",
      " [2. 3. 4.]\n",
      " [3. 4. 6.]]\n",
      "Matrix after row reduction\n",
      "[[ 1.  2.  3.]\n",
      " [ 0. -1. -2.]\n",
      " [ 0.  0.  1.]]\n"
     ]
    }
   ],
   "source": [
    "import logging\n",
    "from logging import debug\n",
    "# Turn on debug messages \n",
    "logging.getLogger().setLevel(logging.DEBUG);\n",
    "\n",
    "def rowreduce(a):\n",
    "    '''Naive Gaussian elimination of a matrix'''\n",
    "    n = a.shape[0] # size of the matrix (that is assumed to be square)\n",
    "    for j in range(n-1):\n",
    "        d = a[j,j] # the jth diagonal element \n",
    "        #TODO We should check that d is not zero here!\n",
    "        for k in range(j+1,n):\n",
    "            mu = - a[k,j]/d\n",
    "            a[k] = a[k] + mu*a[j]\n",
    "\n",
    "        debug(f'The matrix after elimination in col {j+1} \\n{a}') \n",
    "\n",
    "# Define a numpy matrix, more on this later\n",
    "a = np.array([\n",
    "[1,2,3],\n",
    "[2,3,4],\n",
    "[3,4,6],\n",
    "], dtype=float)\n",
    "print(f'Original matrix\\n{a}')\n",
    "# You can add here a line saying \n",
    "# sys.stdout.flush() \n",
    "# to get the expected order of output. This requires importing sys.\n",
    "rowreduce(a) # This changes a\n",
    "print(f'Matrix after row reduction\\n{a}')\n",
    "\n",
    "# Turn off debug messages \n",
    "logging.getLogger().setLevel(logging.WARNING);"
   ]
  },
  {
   "cell_type": "markdown",
   "id": "fda01f8f-b381-4b08-92bd-dd0d962d1f86",
   "metadata": {},
   "source": [
    "# Profiling\n",
    "\n",
    "Profiling means evaluating the time (or other resource) required by a function to run. Let's have an example based on the `fib2` function that we defined above. (Rerun the cell defining `fib2` if you get the error *\"NameError: name 'fib2' is not defined\"*.) Commands `%time` and `%timeit` give simple ways to evaluate runtimes. The difference is that the latter gives an average over several runs while the former uses a single run. More sophisticated profiling is discussed for example in this [blog post](https://towardsdatascience.com/speed-up-jupyter-notebooks-20716cbe2025). "
   ]
  },
  {
   "cell_type": "code",
   "execution_count": 90,
   "id": "1f66507a-bed8-4d0a-b23f-0bd8d100ad70",
   "metadata": {},
   "outputs": [
    {
     "name": "stdout",
     "output_type": "stream",
     "text": [
      "CPU times: user 6 µs, sys: 4 µs, total: 10 µs\n",
      "Wall time: 15.5 µs\n"
     ]
    }
   ],
   "source": [
    "# We don't care about the output of fib2 so we use _ to indicate a throw away variable\n",
    "%time _ = fib2(1e6)"
   ]
  },
  {
   "cell_type": "code",
   "execution_count": 91,
   "id": "e0377f2a-4bc1-4e19-b8e2-6417a8334ae3",
   "metadata": {},
   "outputs": [
    {
     "name": "stdout",
     "output_type": "stream",
     "text": [
      "1.45 µs ± 9.47 ns per loop (mean ± std. dev. of 7 runs, 1,000,000 loops each)\n"
     ]
    }
   ],
   "source": [
    "%timeit _ = fib2(1e6) # Running this takes a while so be patient"
   ]
  },
  {
   "cell_type": "code",
   "execution_count": null,
   "id": "fa01d2f1-88d1-4b61-a3c1-01f535920f95",
   "metadata": {},
   "outputs": [],
   "source": []
  }
 ],
 "metadata": {
  "kernelspec": {
   "display_name": "Python 3 (ipykernel)",
   "language": "python",
   "name": "python3"
  },
  "language_info": {
   "codemirror_mode": {
    "name": "ipython",
    "version": 3
   },
   "file_extension": ".py",
   "mimetype": "text/x-python",
   "name": "python",
   "nbconvert_exporter": "python",
   "pygments_lexer": "ipython3",
   "version": "3.12.0"
  },
  "scenes_data": {
   "active_scene": "Default Scene",
   "init_scene": "",
   "scenes": [
    "Default Scene"
   ]
  },
  "toc-autonumbering": false,
  "toc-showcode": false
 },
 "nbformat": 4,
 "nbformat_minor": 5
}

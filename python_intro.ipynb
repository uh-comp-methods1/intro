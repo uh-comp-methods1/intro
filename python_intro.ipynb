{
 "cells": [
  {
   "cell_type": "markdown",
   "id": "013ec8e1-4a21-456e-908e-fe166ff775bd",
   "metadata": {
    "tags": []
   },
   "source": [
    "Python is a general purpose programming language, however, we will focus on scientific computations using NumPy and SciPy packages. In the JupyterLab environment, Python code is organized in cells that can be run seperately. Let's have a look at the following cell: "
   ]
  },
  {
   "cell_type": "code",
   "execution_count": null,
   "id": "e2887a7e-9093-43b3-acc7-ddab30ccd2c2",
   "metadata": {},
   "outputs": [],
   "source": [
    "# (Comments in Python start with #)\n",
    "# Run the below code by clicking this cell and hitting shift+enter\n",
    "print('Hello world')"
   ]
  },
  {
   "cell_type": "markdown",
   "id": "ae34c88d-293b-42de-a872-38a9746c12e4",
   "metadata": {},
   "source": [
    "In what follows, the cells are meant to be run in the order they appear. Changing the ordering may cause errors. "
   ]
  },
  {
   "cell_type": "markdown",
   "id": "1e8ad42e-70f9-4d51-9bce-c6fb9d63701d",
   "metadata": {
    "tags": []
   },
   "source": [
    "# Using Python as a calculator\n",
    "\n",
    "An excellent way to learn Python is to read the \n",
    "[Python Tutorial](https://docs.python.org/3/tutorial/index.html). I have reproduced here a couple of examples from [Section 3.1](https://docs.python.org/3/tutorial/introduction.html#using-python-as-a-calculator) of the tutorial.\n",
    "\n",
    "Expression syntax is straightforward: the operators `+`, `-`, `*` and `/` work just like in most other languages (for example, Pascal or C); parentheses `()` can be used for grouping. For example:"
   ]
  },
  {
   "cell_type": "code",
   "execution_count": null,
   "id": "8d5c9a9c-806c-460a-a8b2-292db5ed0428",
   "metadata": {
    "tags": []
   },
   "outputs": [],
   "source": [
    "50 - 5*6"
   ]
  },
  {
   "cell_type": "code",
   "execution_count": null,
   "id": "d353bced-4806-45a3-acb2-34a58843b85a",
   "metadata": {
    "tags": []
   },
   "outputs": [],
   "source": [
    "(50 - 5*6) / 4"
   ]
  },
  {
   "cell_type": "code",
   "execution_count": null,
   "id": "79146f51-a21a-4983-92e7-99f44e5d6d93",
   "metadata": {
    "tags": []
   },
   "outputs": [],
   "source": [
    "8 / 5  # division always returns a floating point number"
   ]
  },
  {
   "cell_type": "markdown",
   "id": "3e8072f4-ec00-4310-880a-a74c35391288",
   "metadata": {},
   "source": [
    "# Variables \n",
    "\n",
    "A variable is an object where a value is stored. Let's have some examples"
   ]
  },
  {
   "cell_type": "code",
   "execution_count": null,
   "id": "bf278b4c-3b43-4eec-919e-1ac8ce630706",
   "metadata": {},
   "outputs": [],
   "source": [
    "# We define variables a, b and c\n",
    "a = 1\n",
    "b = 1\n",
    "c = a + b\n",
    "\n",
    "# We can change the value of a\n",
    "a = 2\n",
    "\n",
    "# Print all the three variables using a formatted string, or f-string, see\n",
    "# https://docs.python.org/3/reference/lexical_analysis.html#f-strings\n",
    "print(f'a = {a}, b = {b}, and c = {c}')"
   ]
  },
  {
   "cell_type": "code",
   "execution_count": null,
   "id": "f7279a69-3942-4616-8419-f39bf21181a6",
   "metadata": {},
   "outputs": [],
   "source": [
    "# We can also print the value of one of the variables simply by\n",
    "a"
   ]
  },
  {
   "cell_type": "code",
   "execution_count": null,
   "id": "d5aaa5f3-4dcc-49a0-94d5-bb693d76e799",
   "metadata": {
    "tags": []
   },
   "outputs": [],
   "source": [
    "# Get info on all the variables\n",
    "%whos"
   ]
  },
  {
   "cell_type": "markdown",
   "id": "f1dbce48-e3a6-454e-9e42-e206278fecc2",
   "metadata": {
    "tags": []
   },
   "source": [
    "# The help system\n",
    "\n",
    "Appending a function or command name with `?` gives its short description. More detailed documentation can be found in the references at the bottom of the _Help_ menu, if you are running the notebook locally. The Help menu may look different on different cloud environments. \n",
    "\n",
    "The JupyterLab environment consists of several components, and each of them is documented sepately. The following should help you to choose the right reference:\n",
    "\n",
    "* [Python](https://docs.python.org/3/) for regular Python functions such as `print`\n",
    "* [IPython](https://ipython.readthedocs.io) for commands starting with `%`, for example `%whos`\n",
    "* [NumPy](https://numpy.org/doc/stable/reference/) for basic functions related to matrices\n",
    "* [SciPy](https://docs.scipy.org/doc/scipy/reference/) for more complicated mathematical functions (building on NumPy)\n",
    "* [Matplotlib](https://matplotlib.org/stable/) for functions related to plotting\n",
    "* [SymPy](https://docs.sympy.org/latest) for symbolic computations\n",
    "* [pandas](https://pandas.pydata.org/pandas-docs/stable) for data analysis tools\n",
    "\n",
    "We are not going to use pandas except for pretty printing of tabular data."
   ]
  },
  {
   "cell_type": "code",
   "execution_count": null,
   "id": "28a916af-5749-4a37-b02f-22067f817698",
   "metadata": {},
   "outputs": [],
   "source": [
    "# Get description of the print function\n",
    "print?"
   ]
  },
  {
   "cell_type": "code",
   "execution_count": null,
   "id": "b45bb534-0cbb-44e0-826a-a3ab3adb0405",
   "metadata": {
    "tags": []
   },
   "outputs": [],
   "source": [
    "# Get description of the %whos command\n",
    "%whos?"
   ]
  },
  {
   "cell_type": "code",
   "execution_count": null,
   "id": "b852d207-6ffe-4170-a828-9a5885785b7f",
   "metadata": {
    "tags": []
   },
   "outputs": [],
   "source": [
    "# Appending ? does not work with operators but the following does\n",
    "help('+')"
   ]
  },
  {
   "cell_type": "code",
   "execution_count": null,
   "id": "45ae108f-edee-4521-ad8d-bd8641242f93",
   "metadata": {},
   "outputs": [],
   "source": [
    "# You may find the interactive help system useful, personally I prefer googling\n",
    "# Note that running this opens up an input box and the kernel is in the busy state \n",
    "# (see the status line at the bottom, this may look different in some clouds) \n",
    "# until you type 'quit' in the input box.\n",
    "help()"
   ]
  },
  {
   "cell_type": "markdown",
   "id": "477c2089-cf4e-4898-ab7c-b213527a480a",
   "metadata": {},
   "source": [
    "# Constants in NumPy\n",
    "\n",
    "The imaginary unit is `1j`. Note that `j` by itself can be used as a name of a variable (but, to avoid confusion, you probably don't want to do this if you are also using complex numbers). NumPy package defines many commonly used  constants. Before we can use them we need to import the package. (For more info on importing see [Modules Section](https://docs.python.org/3/tutorial/modules.html#modules) of the Python Tutorial.)\n",
    "\n",
    "To import NumPy run the following cell. **If you restart the kernel you need to run the cell again.** In other words, if you get the error message _\"NameError: name 'np' is not defined\"_, then run the below cell. Note that the import statement does not produce any visible output."
   ]
  },
  {
   "cell_type": "code",
   "execution_count": null,
   "id": "59763f72-ba59-457a-ad2a-fd773c3d87b7",
   "metadata": {},
   "outputs": [],
   "source": [
    "import numpy as np"
   ]
  },
  {
   "cell_type": "markdown",
   "id": "f2636142-13e4-428d-854e-4c1c79b4e6a2",
   "metadata": {},
   "source": [
    "Recall that Euler's formula says $e^{\\pi i} + 1 = 0$. Let's write the left-hand side of the formula in Python."
   ]
  },
  {
   "cell_type": "code",
   "execution_count": null,
   "id": "b019509b-6df0-4df4-9cbc-dea64f7e27fa",
   "metadata": {},
   "outputs": [],
   "source": [
    "# Note that power is ** instead of the more common ^  \n",
    "# This should give zero up to the machine precision\n",
    "err = np.e**(np.pi * 1j) + 1\n",
    "err"
   ]
  },
  {
   "cell_type": "markdown",
   "id": "69968908-901e-4ea0-806f-f73c97b2c94d",
   "metadata": {},
   "source": [
    "## Machine epsilon\n",
    "\n",
    "The default data type for number in numpy is called `float`. Let's get info on the precision and limits of this type."
   ]
  },
  {
   "cell_type": "code",
   "execution_count": null,
   "id": "8b8b1907-eb1c-490a-9717-7697a052142a",
   "metadata": {
    "tags": []
   },
   "outputs": [],
   "source": [
    "print(np.finfo(float))"
   ]
  },
  {
   "cell_type": "code",
   "execution_count": null,
   "id": "d19e89ea-16c7-4965-a1d6-6a3c28b1706e",
   "metadata": {},
   "outputs": [],
   "source": [
    "# Machine epsilon gives an upper bound on the relative error due to rounding \n",
    "# in floating point arithmetic. For our purposes this is \n",
    "eps = np.finfo(float).eps\n",
    "eps"
   ]
  },
  {
   "cell_type": "code",
   "execution_count": null,
   "id": "cc042043-8763-4ad3-853d-aedf3a5eec4b",
   "metadata": {},
   "outputs": [],
   "source": [
    "# Check that the rounding error err above is indeed less than eps\n",
    "abs(err) < eps"
   ]
  },
  {
   "cell_type": "code",
   "execution_count": null,
   "id": "6333bffd-361a-481f-b24a-ef383881f33c",
   "metadata": {},
   "outputs": [],
   "source": [
    "# Print eps after rounding to one digit in the fractional part\n",
    "print(f'{eps:.1e}')"
   ]
  },
  {
   "cell_type": "markdown",
   "id": "ea05a211-ca14-46aa-8b60-86b13bd3e7c2",
   "metadata": {},
   "source": [
    "# Mathematical functions\n",
    "\n",
    "See the [list of mathematical functions](https://numpy.org/doc/stable/reference/routines.math.html) in NumPy for documentation of many mathematical functions.\n",
    "\n",
    "Recall that $\\sin(\\pi) = 0$. Let's write the left-hand side of the formula in Python."
   ]
  },
  {
   "cell_type": "code",
   "execution_count": null,
   "id": "19255b86-2649-4158-b5ad-9604c328f95e",
   "metadata": {},
   "outputs": [],
   "source": [
    "# This should give zero up to the machine precision\n",
    "np.sin(np.pi)"
   ]
  },
  {
   "cell_type": "markdown",
   "id": "ac2e7b19-9f48-4494-bbce-9a05ae96f0c4",
   "metadata": {},
   "source": [
    "# First steps towards programming\n",
    "\n",
    "Consult [Section 3.3](https://docs.python.org/3/tutorial/introduction.html#first-steps-towards-programming) of the tutorial for a detailed explanation of the below example. "
   ]
  },
  {
   "cell_type": "code",
   "execution_count": null,
   "id": "fd8e73e8-bde5-4d4e-81b8-cd875bce72da",
   "metadata": {},
   "outputs": [],
   "source": [
    "# Fibonacci series:\n",
    "# the sum of two elements defines the next\n",
    "a, b = 0, 1\n",
    "while a < 10:\n",
    "    print(a)\n",
    "    a, b = b, a+b"
   ]
  },
  {
   "cell_type": "markdown",
   "id": "067f0d18-0042-436a-8edc-f98921ae0969",
   "metadata": {},
   "source": [
    "# Control flow\n",
    "\n",
    "Consult [Section 4](https://docs.python.org/3/tutorial/controlflow.html#more-control-flow-tools) of the tutorial for a detailed explanation of the below examples. "
   ]
  },
  {
   "cell_type": "code",
   "execution_count": null,
   "id": "3fe99bde-45fb-4a49-8c74-0a4c71200b62",
   "metadata": {},
   "outputs": [],
   "source": [
    "x = int(input(\"Please enter an integer: \"))\n",
    "\n",
    "if x < 0:\n",
    "    x = 0\n",
    "    print('Negative changed to zero')\n",
    "elif x == 0:\n",
    "    print('Zero')\n",
    "elif x == 1:\n",
    "    print('Single')\n",
    "else:\n",
    "    print('More')"
   ]
  },
  {
   "cell_type": "code",
   "execution_count": null,
   "id": "09ad89c2-6fb6-4c86-a764-d5d4cb914a7a",
   "metadata": {},
   "outputs": [],
   "source": [
    "for i in range(5):\n",
    "    print(i)"
   ]
  },
  {
   "cell_type": "code",
   "execution_count": null,
   "id": "6e40c4b7-3b04-4eaa-bf50-a993995d57a9",
   "metadata": {},
   "outputs": [],
   "source": [
    "for n in range(2, 10):\n",
    "    for x in range(2, n):\n",
    "        if n % x == 0:\n",
    "            print(n, 'equals', x, '*', n//x)\n",
    "            break\n",
    "    else:\n",
    "        # loop fell through without finding a factor\n",
    "        print(n, 'is a prime number')"
   ]
  },
  {
   "cell_type": "markdown",
   "id": "738dbd0b-d692-47c5-a254-45dff5322786",
   "metadata": {},
   "source": [
    "# Functions\n",
    "\n",
    "The below example is from [Section 4.1](https://docs.python.org/3/tutorial/controlflow.html#defining-functions) of the tutorial. Here the first statement of the function body is a string literal; this is the function’s documentation string, or docstring. (More about docstrings can be found in the section [Documentation Strings](https://docs.python.org/3/tutorial/controlflow.html#tut-docstrings).) One nice feature is that docstrings work with the help system. "
   ]
  },
  {
   "cell_type": "code",
   "execution_count": null,
   "id": "778fbaf9-09ea-42da-a659-8e876ea531ea",
   "metadata": {},
   "outputs": [],
   "source": [
    "def fib2(n): \n",
    "    \"\"\"Return a list containing the Fibonacci series up to n.\"\"\"\n",
    "    result = []\n",
    "    a, b = 0, 1\n",
    "    while a < n:\n",
    "        result.append(a)    \n",
    "        a, b = b, a+b\n",
    "    return result\n",
    "\n",
    "# Now call the function we just defined:\n",
    "fib2(2000)"
   ]
  },
  {
   "cell_type": "code",
   "execution_count": null,
   "id": "d48852fc-188b-4134-93f8-a8d15078e47d",
   "metadata": {},
   "outputs": [],
   "source": [
    "fib2?"
   ]
  },
  {
   "cell_type": "code",
   "execution_count": null,
   "id": "fca75075-513c-4e86-934e-7c8f644437a4",
   "metadata": {},
   "outputs": [],
   "source": [
    "# We can see the full definition of fib2 function as follows\n",
    "fib2??"
   ]
  },
  {
   "cell_type": "markdown",
   "id": "fb3e268e-50a9-4ea3-859a-149d059aebf7",
   "metadata": {},
   "source": [
    "# Matrices and vectors\n",
    "\n",
    "NumPy implements the most common operations and functions related to matrices and vectors. If you are familiar with Matlab, the best place to start is the guide for [Matlab users](https://numpy.org/doc/stable/user/numpy-for-matlab-users.html#numpy-for-matlab-users). Even if you don't know Matlab, the guide is worth glancing at since it summarizes well the features of NumPy. In addition to what follows, you might want to read also [NumPy: the absolute basics for beginners](https://numpy.org/doc/stable/user/absolute_beginners.html) document.\n",
    "\n",
    "The following examples are adapted from [NumPy quickstart](https://numpy.org/doc/stable/user/quickstart.html#numpy-quickstart) guide. In NumPy's documentation both vectors and matrices are called **arrays**."
   ]
  },
  {
   "cell_type": "markdown",
   "id": "5eadc16e-200b-4124-b382-4c9c65f7020f",
   "metadata": {},
   "source": [
    "## Creation of arrays"
   ]
  },
  {
   "cell_type": "code",
   "execution_count": null,
   "id": "2447c1cb-99cd-4bd8-9411-a9ae9c4dc58a",
   "metadata": {},
   "outputs": [],
   "source": [
    "# Define a vector with 4 elements\n",
    "# Here the vector is created from a list\n",
    "# See Section 3.1.3 of the Python Tutorial for info on lists:\n",
    "# https://docs.python.org/3/tutorial/introduction.html#lists\n",
    "np.array([1.2, 3.5, 5.1, 0])"
   ]
  },
  {
   "cell_type": "code",
   "execution_count": null,
   "id": "d937b380-4738-4bca-bc25-9a733bc1be7f",
   "metadata": {},
   "outputs": [],
   "source": [
    "# Create 3 x 4 matrix full of zeros\n",
    "np.zeros((3, 4))"
   ]
  },
  {
   "cell_type": "code",
   "execution_count": null,
   "id": "6a94552b-2619-417d-8ff9-0c74385219b9",
   "metadata": {},
   "outputs": [],
   "source": [
    "# Create 2 x 2 identity matrix \n",
    "# (You can also use np.eye if you are used to eye in Matlab)  \n",
    "np.identity(2)"
   ]
  },
  {
   "cell_type": "code",
   "execution_count": null,
   "id": "8f671fae-87e7-4037-943c-0577c362f159",
   "metadata": {},
   "outputs": [],
   "source": [
    "# Create vector of length 3 full of ones\n",
    "np.ones(3)"
   ]
  },
  {
   "cell_type": "code",
   "execution_count": null,
   "id": "3b393a87-f46c-43fa-8b21-b93955dbb64d",
   "metadata": {},
   "outputs": [],
   "source": [
    "# Create vector of length 3 full of numbers 0.1\n",
    "np.full(3, 0.1)"
   ]
  },
  {
   "cell_type": "code",
   "execution_count": null,
   "id": "30639b76-b2c1-4440-9d24-929da17a054e",
   "metadata": {},
   "outputs": [],
   "source": [
    "# Create a vector with 9 evenly spaced numbers between 0 and 2\n",
    "np.linspace(0, 2, 9)"
   ]
  },
  {
   "cell_type": "code",
   "execution_count": null,
   "id": "b741eebf-5c74-4a54-bad7-2321a0a05c85",
   "metadata": {},
   "outputs": [],
   "source": [
    "# Create diagonal matrix with 1, 2 and 3 on the diagonal\n",
    "np.diag(np.linspace(1,3,3))"
   ]
  },
  {
   "cell_type": "code",
   "execution_count": null,
   "id": "c6e847fe-7821-44a3-b0a9-e4d567a3b343",
   "metadata": {},
   "outputs": [],
   "source": [
    "# Create a 5 x 4 matrix given a function\n",
    "def f(i, j):\n",
    "    return 10 * (i+1) + (j+1)\n",
    "np.fromfunction(f, (5, 4))"
   ]
  },
  {
   "cell_type": "code",
   "execution_count": null,
   "id": "aa6231f0-ee44-4037-9622-0838e4af2763",
   "metadata": {},
   "outputs": [],
   "source": [
    "# As in the previous example, often we really want to use indexing starting from 1\n",
    "# One way to achieve this is as follows \n",
    "def element(i0, j0):\n",
    "    i, j = i0+1, j0+1 # change to indexing starting from 1\n",
    "    return 10 * i + j\n",
    "np.fromfunction(element, (5, 4))"
   ]
  },
  {
   "cell_type": "code",
   "execution_count": null,
   "id": "68565259-19c7-443a-81e8-51c59b553535",
   "metadata": {},
   "outputs": [],
   "source": [
    "# If an array is too large to be printed,\n",
    "# NumPy automatically skips the central part of the array and only prints the corners\n",
    "np.linspace(0, 2, 1001)"
   ]
  },
  {
   "cell_type": "code",
   "execution_count": null,
   "id": "c668ebb7-0d85-4c09-8dfb-bbe294ec0949",
   "metadata": {},
   "outputs": [],
   "source": [
    "# This behaviour is controlled by threshold in printoptions, see\n",
    "# https://numpy.org/doc/stable/reference/generated/numpy.set_printoptions.html#numpy-set-printoptions\n",
    "# Funtion get_printoptions returns the options as a dictionary.\n",
    "# For more info on dictionaries see Section 5.5 of the Python Tutorial\n",
    "# https://docs.python.org/3/tutorial/datastructures.html#dictionaries\n",
    "np.get_printoptions()['threshold']"
   ]
  },
  {
   "cell_type": "markdown",
   "id": "7c5f86aa-0faa-4cb6-89a4-c0abe17aa9f9",
   "metadata": {},
   "source": [
    "## Elements and parts of a vector"
   ]
  },
  {
   "cell_type": "code",
   "execution_count": null,
   "id": "ad3945e5-c365-4150-9787-8ae8fe033ccb",
   "metadata": {
    "tags": []
   },
   "outputs": [],
   "source": [
    "# Create vector with numbers from 1 to 9\n",
    "v = np.linspace(1, 9, 9)\n",
    "v"
   ]
  },
  {
   "cell_type": "code",
   "execution_count": null,
   "id": "f289a393-2c00-4e66-ab66-179ba85cd2dc",
   "metadata": {
    "tags": []
   },
   "outputs": [],
   "source": [
    "# Print some elements of v\n",
    "print(f'v[0] = {v[0]}, v[1] = {v[1]}, and v[8] = {v[8]}') "
   ]
  },
  {
   "cell_type": "code",
   "execution_count": null,
   "id": "5fb6efc1-5a53-481e-91f1-3890977859a7",
   "metadata": {},
   "outputs": [],
   "source": [
    "# A part of v\n",
    "v[2:5]"
   ]
  },
  {
   "cell_type": "code",
   "execution_count": null,
   "id": "c8a2e267-ba3d-4100-bbc5-00f27bcc8c76",
   "metadata": {},
   "outputs": [],
   "source": [
    "# A part of v, starting from the first element\n",
    "v[:5]"
   ]
  },
  {
   "cell_type": "code",
   "execution_count": null,
   "id": "f7eecec9-b4e4-49fb-941e-58eebff808f1",
   "metadata": {},
   "outputs": [],
   "source": [
    "# A part of v, ending to the last element\n",
    "v[2:]"
   ]
  },
  {
   "cell_type": "code",
   "execution_count": null,
   "id": "83bbc286-7f14-4251-9207-66a194741578",
   "metadata": {},
   "outputs": [],
   "source": [
    "# From start to position 6, exclusive, every 2nd element\n",
    "v[:6:2] "
   ]
  },
  {
   "cell_type": "code",
   "execution_count": null,
   "id": "4f1ac612-4a9f-4c25-810d-5f5404a9e7da",
   "metadata": {},
   "outputs": [],
   "source": [
    "# Reversed v\n",
    "v[::-1]  "
   ]
  },
  {
   "cell_type": "code",
   "execution_count": null,
   "id": "1ae246fb-c2d1-40ea-a475-3038152c1fc2",
   "metadata": {},
   "outputs": [],
   "source": [
    "# Several elements at once\n",
    "v[[1,2,7]]"
   ]
  },
  {
   "cell_type": "code",
   "execution_count": null,
   "id": "1c509f8c-e535-4526-b76c-0380f75123e5",
   "metadata": {},
   "outputs": [],
   "source": [
    "# Last element\n",
    "v[-1]"
   ]
  },
  {
   "cell_type": "code",
   "execution_count": null,
   "id": "7596218c-7004-4e2a-b3d2-4a0b0a8eb300",
   "metadata": {},
   "outputs": [],
   "source": [
    "# Next to last element\n",
    "v[-2]"
   ]
  },
  {
   "cell_type": "code",
   "execution_count": null,
   "id": "e492be95-a621-45c4-b854-d7ecf8864d82",
   "metadata": {},
   "outputs": [],
   "source": [
    "# The above expressions can also be used to modify vectors\n",
    "# Set the first two elements to zero\n",
    "v[:2] = 0\n",
    "v"
   ]
  },
  {
   "cell_type": "code",
   "execution_count": null,
   "id": "cc316f51-0561-45dc-a91a-c0719489f5bc",
   "metadata": {},
   "outputs": [],
   "source": [
    "# Iterate over elements\n",
    "for element in v:\n",
    "    print(element)"
   ]
  },
  {
   "cell_type": "markdown",
   "id": "d48fca4d-aecd-4623-b595-57189e06427b",
   "metadata": {},
   "source": [
    "## Elements and parts of a matrix"
   ]
  },
  {
   "cell_type": "code",
   "execution_count": null,
   "id": "c894e7f8-98af-47eb-82c7-1c276c2c0807",
   "metadata": {
    "tags": []
   },
   "outputs": [],
   "source": [
    "# Create a 5 x 4 matrix\n",
    "def element(i0, j0):\n",
    "    i, j = i0+1, j0+1 # change to indexing starting from 1\n",
    "    return 10 * i + j\n",
    "m = np.fromfunction(element, (5, 4))\n",
    "m"
   ]
  },
  {
   "cell_type": "code",
   "execution_count": null,
   "id": "0d6265b9-d744-4584-8a67-b58b733c03ba",
   "metadata": {},
   "outputs": [],
   "source": [
    "# A single element\n",
    "m[2, 3]"
   ]
  },
  {
   "cell_type": "code",
   "execution_count": null,
   "id": "e99c1f01-d477-4dcf-867a-656970ba7918",
   "metadata": {},
   "outputs": [],
   "source": [
    "# Each row in the second column of b\n",
    "m[0:5, 1]  "
   ]
  },
  {
   "cell_type": "code",
   "execution_count": null,
   "id": "fea3cafd-9ea8-49a4-897b-a83031f1c64f",
   "metadata": {},
   "outputs": [],
   "source": [
    "# Equivalent to the previous example\n",
    "m[:, 1]    "
   ]
  },
  {
   "cell_type": "code",
   "execution_count": null,
   "id": "f4c4fb46-51a1-4569-b825-5218743aa698",
   "metadata": {},
   "outputs": [],
   "source": [
    "# First row\n",
    "m[0, :]  "
   ]
  },
  {
   "cell_type": "code",
   "execution_count": null,
   "id": "ac1ecba5-c738-4799-b360-7d9b199823d1",
   "metadata": {},
   "outputs": [],
   "source": [
    "# Equivalent to the previous example\n",
    "m[0]"
   ]
  },
  {
   "cell_type": "code",
   "execution_count": null,
   "id": "7a3976da-dad4-484b-aef3-6691a917b826",
   "metadata": {},
   "outputs": [],
   "source": [
    "# First and last rows\n",
    "m[[0,-1]] "
   ]
  },
  {
   "cell_type": "code",
   "execution_count": null,
   "id": "db5ab9c9-71a8-4920-ab27-9e264910762c",
   "metadata": {},
   "outputs": [],
   "source": [
    "# Top left 2 x 2 block\n",
    "m[:2, :2]"
   ]
  },
  {
   "cell_type": "code",
   "execution_count": null,
   "id": "7f4b53b5-af6e-45ea-ab93-8b84c3d6e746",
   "metadata": {},
   "outputs": [],
   "source": [
    "# The above expressions can also be used to modify matrices\n",
    "# Set the last row to zero\n",
    "m[-1] = 0\n",
    "m"
   ]
  },
  {
   "cell_type": "code",
   "execution_count": null,
   "id": "54dc2b30-2fca-44f7-acfc-3ad88ea4d3c5",
   "metadata": {
    "tags": []
   },
   "outputs": [],
   "source": [
    "# The diagonal of a 4 x 4 submatrix\n",
    "np.diag(m[0:4])"
   ]
  },
  {
   "cell_type": "code",
   "execution_count": null,
   "id": "02d4b9cd-1157-405e-85af-f30b09d54f97",
   "metadata": {},
   "outputs": [],
   "source": [
    "# Iterating over multidimensional arrays is done with respect to the first axis:\n",
    "for row in m:\n",
    "    print(row)"
   ]
  },
  {
   "cell_type": "code",
   "execution_count": null,
   "id": "6561b858-5669-4b5b-93c9-db860074e487",
   "metadata": {},
   "outputs": [],
   "source": [
    "# However, if one wants to perform an operation on each element in the array, \n",
    "# one can use the flat attribute which is an iterator over all the elements:\n",
    "for element in m.flat:\n",
    "    print(element)"
   ]
  },
  {
   "cell_type": "markdown",
   "id": "7523fb60-7494-4d6b-93db-a430c6f48322",
   "metadata": {
    "tags": []
   },
   "source": [
    "## On data types\n",
    "\n",
    "NumPy allows for creation of arrays whose values are not stored as floating point numbers, for example, arrays of integers. This can cause trouble sometimes. (This is one of the couple of ways in which Matlab is more convenient to use than NumPy. In my opinion, the great open source ecosystem around NumPy outweighs this minor inconvenience, though.) \n",
    "\n",
    "If you don't specify the data type explicitly when creating an array from list using `array`, then the type will be determined as the minimum type required to hold the objects in the list."
   ]
  },
  {
   "cell_type": "code",
   "execution_count": null,
   "id": "84d3ca0c-726d-46bd-b5b6-278382d800bf",
   "metadata": {},
   "outputs": [],
   "source": [
    "array_of_ints = np.array([\n",
    "[1,2,3],\n",
    "[2,4,5],\n",
    "[3,5,6],\n",
    "])\n",
    "array_of_ints.dtype"
   ]
  },
  {
   "cell_type": "code",
   "execution_count": null,
   "id": "83cf574e-0102-4f94-8ced-a5c2478c72b8",
   "metadata": {},
   "outputs": [],
   "source": [
    "# We get the expected result with\n",
    "0.5 * array_of_ints"
   ]
  },
  {
   "cell_type": "code",
   "execution_count": null,
   "id": "52860bf6-bf3d-4225-bd67-ac6afcdb48d1",
   "metadata": {},
   "outputs": [],
   "source": [
    "# However, the following rounds to integers\n",
    "array_of_ints[0] = 0.5 * array_of_ints[0]\n",
    "array_of_ints"
   ]
  },
  {
   "cell_type": "code",
   "execution_count": null,
   "id": "d1fab8a0-265f-4163-8e38-4d0199a55b55",
   "metadata": {},
   "outputs": [],
   "source": [
    "# Let's start over and tell that we want to work with floats\n",
    "array_of_floats = np.array([\n",
    "[1,2,3],\n",
    "[2,4,5],\n",
    "[3,5,6],\n",
    "], dtype=float)\n",
    "array_of_floats.dtype"
   ]
  },
  {
   "cell_type": "code",
   "execution_count": null,
   "id": "447ba17b-9339-4d79-9b03-0f01df92238b",
   "metadata": {},
   "outputs": [],
   "source": [
    "array_of_floats[0] = 0.5 * array_of_floats[0]\n",
    "array_of_floats"
   ]
  },
  {
   "cell_type": "markdown",
   "id": "6816c5b7-8c18-4d3d-804d-28683e1c2cef",
   "metadata": {
    "tags": []
   },
   "source": [
    "## Basic operations"
   ]
  },
  {
   "cell_type": "code",
   "execution_count": null,
   "id": "bee82c9b-4129-41cc-98e4-de82f9da71f1",
   "metadata": {},
   "outputs": [],
   "source": [
    "# Let's use again our old friends v and m \n",
    "v = np.linspace(1, 9, 9)\n",
    "def element(i0, j0):\n",
    "    i, j = i0+1, j0+1 # change to indexing starting from 1\n",
    "    return 10 * i + j\n",
    "m = np.fromfunction(element, (5, 4))\n",
    "\n",
    "# Dimensions of v and m\n",
    "print(f'shape of v is {np.shape(v)} and shape of m is {np.shape(m)}')\n",
    "# Number of elements in v and m\n",
    "print(f'size of v is {np.size(v)} and size of m is {np.size(m)}')"
   ]
  },
  {
   "cell_type": "code",
   "execution_count": null,
   "id": "fcdddc28-4542-422c-bbe0-4af038592c3e",
   "metadata": {},
   "outputs": [],
   "source": [
    "# Arithmetic operators on arrays apply elementwise.\n",
    "# A new array is created and filled with the result.\n",
    "w = v + 0.1 * np.ones(9)\n",
    "w"
   ]
  },
  {
   "cell_type": "code",
   "execution_count": null,
   "id": "5f56c451-ef67-4411-a583-9378ae8081f4",
   "metadata": {},
   "outputs": [],
   "source": [
    "# Many mathematical functions apply elementwise\n",
    "10 * np.sin(v)"
   ]
  },
  {
   "cell_type": "code",
   "execution_count": null,
   "id": "0ffd851c-d0ad-48c8-bbfa-8aa1253545a4",
   "metadata": {},
   "outputs": [],
   "source": [
    "# The matrix product can be performed using the @ operator\n",
    "A = np.array([\n",
    "[1, 1],\n",
    "[0, 1],\n",
    "], dtype=float)\n",
    "B = np.array([\n",
    "[2, 0],\n",
    "[3, 4],\n",
    "], dtype=float)\n",
    "A @ B"
   ]
  },
  {
   "cell_type": "code",
   "execution_count": null,
   "id": "f6bd1f03-97c6-4107-a1fb-cf46d02f1e90",
   "metadata": {},
   "outputs": [],
   "source": [
    "# Some operations, such as += and *=, act in place to modify an existing array rather than create a new one.\n",
    "a = np.ones((2, 3)) # 2 x 3 matrix full of ones\n",
    "a *= 3\n",
    "a"
   ]
  },
  {
   "cell_type": "code",
   "execution_count": null,
   "id": "0b14e1d7-7581-4640-a277-f17f43af7beb",
   "metadata": {},
   "outputs": [],
   "source": [
    "# Let's use some random numbers for our next example matrix\n",
    "rg = np.random.default_rng() # create instance of default random number generator\n",
    "b = rg.random((2, 3)) # 2 x 3 matrix full of uniform random numbers in the interval [0,1)\n",
    "b += a\n",
    "b"
   ]
  },
  {
   "cell_type": "code",
   "execution_count": null,
   "id": "105bca34-b972-490c-98ac-fdbcd4bf7377",
   "metadata": {},
   "outputs": [],
   "source": [
    "# By default, unary operations apply to the array as though it were a list of numbers, regardless of its shape. \n",
    "np.sum(b)    # sum of all elements"
   ]
  },
  {
   "cell_type": "code",
   "execution_count": null,
   "id": "40e1491c-25ef-4b5d-a1de-a4bbbc474706",
   "metadata": {},
   "outputs": [],
   "source": [
    "# However, by specifying the axis parameter you can apply an operation along the specified axis of an array:\n",
    "np.sum(b, axis=0)    # sum of each column"
   ]
  },
  {
   "cell_type": "code",
   "execution_count": null,
   "id": "548d417b-e7d1-4b53-92bc-ce462469cc02",
   "metadata": {},
   "outputs": [],
   "source": [
    "np.min(b, axis=1)    # min of each row"
   ]
  },
  {
   "cell_type": "markdown",
   "id": "ea02f1cd-3118-40e8-a9f5-c95b90ae700f",
   "metadata": {},
   "source": [
    "## Copies and views"
   ]
  },
  {
   "cell_type": "code",
   "execution_count": null,
   "id": "72a4f220-6510-4f92-bb2c-a5fb77086466",
   "metadata": {},
   "outputs": [],
   "source": [
    "# Simple assignments or function calls make no copies.\n",
    "a = np.array([\n",
    "[ 0,  1,  2,  3],\n",
    "[ 4,  5,  6,  7],\n",
    "[ 8,  9, 10, 11],\n",
    "], dtype=float)\n",
    "b = a    # no new array is created\n",
    "b is a   # a and b are two names for the array"
   ]
  },
  {
   "cell_type": "code",
   "execution_count": null,
   "id": "aac513c6-b365-45d0-98db-8583541466c2",
   "metadata": {},
   "outputs": [],
   "source": [
    "b[0,0] = -100\n",
    "a"
   ]
  },
  {
   "cell_type": "code",
   "execution_count": null,
   "id": "715dc46d-2c8b-4d28-bbe5-078ad5a79dd3",
   "metadata": {},
   "outputs": [],
   "source": [
    "# Slicing an array returns a view of it, not a copy.\n",
    "s = a[:, 0:1]\n",
    "s[0,0] = -200\n",
    "a"
   ]
  },
  {
   "cell_type": "code",
   "execution_count": null,
   "id": "2ee5b28e-4fde-44eb-819f-20d5f9966da5",
   "metadata": {},
   "outputs": [],
   "source": [
    "# The copy method makes a complete copy of the array and its data.\n",
    "d = a.copy()\n",
    "d[0, 0] = 9999\n",
    "a"
   ]
  },
  {
   "cell_type": "markdown",
   "id": "fb126dfc-8047-4b39-b51b-ffb4cda8c3c9",
   "metadata": {},
   "source": [
    "## Changing the shape of an array\n",
    "\n",
    "The shape of an array can be changed with various commands. \n",
    "Note that the following three commands all return a modified array, \n",
    "but do not change the original array.\n",
    "(If you want to change it, use resize.)"
   ]
  },
  {
   "cell_type": "code",
   "execution_count": null,
   "id": "b7daf66e-43df-4267-9d58-a63f03fc2b08",
   "metadata": {},
   "outputs": [],
   "source": [
    "a = np.floor(10 * rg.random((3, 4)))\n",
    "a"
   ]
  },
  {
   "cell_type": "code",
   "execution_count": null,
   "id": "82e4a661-484b-4591-8661-4584086da671",
   "metadata": {},
   "outputs": [],
   "source": [
    "np.ravel(a)  # returns the array, flattened"
   ]
  },
  {
   "cell_type": "code",
   "execution_count": null,
   "id": "15407f7c-8952-47d1-a719-503e4a6a51ab",
   "metadata": {},
   "outputs": [],
   "source": [
    "a.reshape(6, 2)"
   ]
  },
  {
   "cell_type": "code",
   "execution_count": null,
   "id": "29cc8cfc-fa34-4e21-aa8d-a82460b5e0e7",
   "metadata": {},
   "outputs": [],
   "source": [
    "a.T  # returns the array, transposed"
   ]
  },
  {
   "cell_type": "code",
   "execution_count": null,
   "id": "f5afc56a-eafe-4bc2-9d27-b3b6ed77c652",
   "metadata": {},
   "outputs": [],
   "source": [
    "print(f'shape of a.T is {a.T.shape} and shape of a is {a.shape}')"
   ]
  },
  {
   "cell_type": "markdown",
   "id": "ebc9be6f-45a8-47da-b163-a73911544973",
   "metadata": {},
   "source": [
    "## Stacking arrays\n",
    "\n",
    "Several arrays can be stacked together along different axes.\n",
    "In addition to `row_stack` in the example below, \n",
    "you can experiment with `column_stack`, `vstack` and `hstack`, see\n",
    "the [section](https://numpy.org/doc/stable/user/quickstart.html#stacking-together-different-arrays) on stacking in the quickstart guide. \n",
    "For the opposite effect, that is, splitting, use `vsplit` and `hsplit`, see\n",
    "the [section](https://numpy.org/doc/stable/user/quickstart.html#splitting-one-array-into-several-smaller-ones) on splitting in the quickstart guide."
   ]
  },
  {
   "cell_type": "code",
   "execution_count": null,
   "id": "66d57a80-97a8-411c-987e-f795e61ad1c1",
   "metadata": {},
   "outputs": [],
   "source": [
    "a = np.array([4., 2.])\n",
    "b = np.array([3., 8.])\n",
    "np.row_stack((a, b))"
   ]
  },
  {
   "cell_type": "markdown",
   "id": "168a9fb5-8994-438f-8a96-003a0a351bab",
   "metadata": {},
   "source": [
    "For more advanced topics, see [Less Basic](https://numpy.org/doc/stable/user/quickstart.html#less-basic) section of  the NumPy quickstart guide. For still more advanced things, see [NumPy user guide](https://numpy.org/doc/stable/user/index.html)."
   ]
  },
  {
   "cell_type": "markdown",
   "id": "2254a07d-bf76-4efa-877a-0f9d88a0d95d",
   "metadata": {},
   "source": [
    "# Plotting\n",
    "\n",
    "We will use Pyplot (a part of Matplotlib) that is a collection of functions that work like those in Matlab. For an introdution see [Pyplot tutorial](https://matplotlib.org/stable/tutorials/introductory/pyplot.html#pyplot-tutorial). (Note that when running Pyplot in Jupyter, you don't need to use the show function that you see in many examples.)\n",
    "\n",
    "To enable plotting we need to import Matplotlib package by running the following cell. **If you restart the kernel you need to run the cell again.** In other words, if you get the error message _\"NameError: name 'plt' is not defined\"_, then run the below cell. Note that the import statement does not produce any visible output.\n",
    "\n",
    "Interactive features of Matplotlib can be enabled by using the [ipympl](https://github.com/matplotlib/ipympl) package, but we will not use them. "
   ]
  },
  {
   "cell_type": "code",
   "execution_count": null,
   "id": "5f3c9492-1445-4088-8448-d6af0f96f95a",
   "metadata": {},
   "outputs": [],
   "source": [
    "import matplotlib.pyplot as plt"
   ]
  },
  {
   "cell_type": "code",
   "execution_count": null,
   "id": "201dc6e5-33f3-458d-b763-abf06f259102",
   "metadata": {},
   "outputs": [],
   "source": [
    "# Plot one period of the sin function\n",
    "xs = np.linspace(0, 2*np.pi)\n",
    "ys = np.sin(xs)\n",
    "plt.plot(xs, ys); # ; hides the output of this command"
   ]
  },
  {
   "cell_type": "code",
   "execution_count": null,
   "id": "885bdf0f-cc51-4c91-9771-6e578d81bf0b",
   "metadata": {},
   "outputs": [],
   "source": [
    "# Plot both sin and cos with some tuning of the x axis\n",
    "L = 2*np.pi\n",
    "xs = np.linspace(0, L)\n",
    "plt.plot(xs, np.sin(xs), 'b-')   # sin in blue solid line\n",
    "plt.plot(xs, np.cos(xs), 'r--')  # cos in red dashed line\n",
    "plt.gca().set(\n",
    "    xlim = (0, L),   # remove white space on left and right\n",
    "    xticks = np.pi * np.array([0, .5, 1, 1.5, 2]),\n",
    "    xticklabels = ['0', '$\\pi/2$', '$\\pi$', '$3\\pi/2$', '$2\\pi$'],\n",
    "    ); "
   ]
  },
  {
   "cell_type": "code",
   "execution_count": null,
   "id": "7d5f3b88-9859-4700-894e-bfb1dd16b598",
   "metadata": {},
   "outputs": [],
   "source": [
    "# See the end of the docstring of plt.plot for more formatting options \n",
    "# like 'b-' and 'r--'\n",
    "plt.plot?"
   ]
  },
  {
   "cell_type": "code",
   "execution_count": null,
   "id": "c0e3fedc-f4e4-4bb7-bd4f-e9e10d190d66",
   "metadata": {},
   "outputs": [],
   "source": [
    "# Log-log plots are useful, for example, for showing convergence rates\n",
    "xs = np.linspace(1, 2)\n",
    "ys = xs**2\n",
    "plt.plot(xs, ys)    # plot the function f(x) = x^2 \n",
    "plt.figure()        # create a new figure, otherwise the previous plot is overwritten\n",
    "plt.loglog(xs, ys); # plot the same function f with log scales on both axes "
   ]
  },
  {
   "cell_type": "markdown",
   "id": "a31a595d-237a-48e5-9936-7674aaf70ab1",
   "metadata": {},
   "source": [
    "## Plots in 3d\n",
    "\n",
    "For a summary of 3d plotting see the [mplot3d Toolkit Tutorial](https://matplotlib.org/stable/tutorials/toolkits/mplot3d.html). "
   ]
  },
  {
   "cell_type": "code",
   "execution_count": null,
   "id": "af91637b-2ca8-476e-afca-f5571315200b",
   "metadata": {},
   "outputs": [],
   "source": [
    "# Plot a Gaussian function of two variables\n",
    "xs = np.linspace(-1,1)\n",
    "Xs, Ys = np.meshgrid(xs, xs)\n",
    "c = 8\n",
    "Zs = np.exp(-c*(Xs**2 + Ys**2))\n",
    "\n",
    "ax3d = plt.axes(projection='3d')\n",
    "# Use the coolwarm colormap, for other colormaps see \n",
    "# https://matplotlib.org/stable/tutorials/colors/colormaps.html\n",
    "surf = ax3d.plot_surface(Xs, Ys, Zs, cmap='coolwarm')\n",
    "# Add a color bar which maps values to colors.\n",
    "plt.colorbar(surf, shrink=0.5, aspect=5);"
   ]
  },
  {
   "cell_type": "markdown",
   "id": "6ddc0df6-a76b-4134-b02e-66474b6975e4",
   "metadata": {
    "tags": []
   },
   "source": [
    "# Debugging\n",
    "\n",
    "Debugging is the process of finding and resolving bugs (defects or problems that prevent correct operation).\n",
    "Perhaps the simplest way to debug is to print some intermediate results and auxiliary info. While this can be done using the `print` function, it can be convenient to use `logging` package since then the auxiliary debug info can easily be turned on and off. For more info on logging see [Logging HOWTO](https://docs.python.org/3/howto/logging.html).\n",
    "\n",
    "You can also use a debugger by clicking the bug icon in the top right corner (this might not be available in some cloud environments). Then click a line number in the code below to set a breakpoint, and run the code. The debugger will stop at that line, and you can, for example, inspect variables and run the code line by line. See the documentation of [Jupyter](https://jupyterlab.readthedocs.io/en/stable/user/debugger.html#usage) for a brief animation illustrating this."
   ]
  },
  {
   "cell_type": "code",
   "execution_count": null,
   "id": "7f0fe535-68e2-4471-8ea6-a185eb19bf75",
   "metadata": {
    "tags": []
   },
   "outputs": [],
   "source": [
    "import logging\n",
    "from logging import debug\n",
    "# Turn on debug messages \n",
    "logging.getLogger().setLevel(logging.DEBUG);\n",
    "\n",
    "def rowreduce(a):\n",
    "    '''Naive Gaussian elimination of a matrix'''\n",
    "    n = a.shape[0] # size of the matrix (that is assumed to be square)\n",
    "    for j in range(n-1):\n",
    "        d = a[j,j] # the jth diagonal element \n",
    "        #TODO We should check that d is not zero here!\n",
    "        for k in range(j+1,n):\n",
    "            mu = - a[k,j]/d\n",
    "            a[k] = a[k] + mu*a[j]\n",
    "\n",
    "        debug(f'The matrix after elimination in col {j+1} \\n{a}') \n",
    "\n",
    "# Define a numpy matrix, more on this later\n",
    "a = np.array([\n",
    "[1,2,3],\n",
    "[2,3,4],\n",
    "[3,4,6],\n",
    "], dtype=float)\n",
    "print(f'Original matrix\\n{a}')\n",
    "# You can add here a line saying \n",
    "# sys.stdout.flush() \n",
    "# to get the expected order of output. This requires importing sys.\n",
    "rowreduce(a) # This changes a\n",
    "print(f'Matrix after row reduction\\n{a}')\n",
    "\n",
    "# Turn off debug messages \n",
    "logging.getLogger().setLevel(logging.WARNING);"
   ]
  },
  {
   "cell_type": "markdown",
   "id": "fda01f8f-b381-4b08-92bd-dd0d962d1f86",
   "metadata": {},
   "source": [
    "# Profiling\n",
    "\n",
    "Profiling means evaluating the time (or other resource) required by a function to run. Let's have an example based on the `fib2` function that we defined above. (Rerun the cell defining `fib2` if you get the error *\"NameError: name 'fib2' is not defined\"*.) Commands `%time` and `%timeit` give simple ways to evaluate runtimes. The difference is that the latter gives an average over several runs while the former uses a single run. More sophisticated profiling is discussed for example in this [blog post](https://towardsdatascience.com/speed-up-jupyter-notebooks-20716cbe2025). "
   ]
  },
  {
   "cell_type": "code",
   "execution_count": null,
   "id": "1f66507a-bed8-4d0a-b23f-0bd8d100ad70",
   "metadata": {
    "tags": []
   },
   "outputs": [],
   "source": [
    "# We don't care about the output of fib2 so we use _ to indicate a throw away variable\n",
    "%time _ = fib2(1e6)"
   ]
  },
  {
   "cell_type": "code",
   "execution_count": null,
   "id": "e0377f2a-4bc1-4e19-b8e2-6417a8334ae3",
   "metadata": {
    "tags": []
   },
   "outputs": [],
   "source": [
    "%timeit _ = fib2(1e6) # Running this takes a while so be patient"
   ]
  },
  {
   "cell_type": "code",
   "execution_count": null,
   "id": "fa01d2f1-88d1-4b61-a3c1-01f535920f95",
   "metadata": {},
   "outputs": [],
   "source": []
  }
 ],
 "metadata": {
  "kernelspec": {
   "display_name": "Python3.6.6",
   "language": "python",
   "name": "python3.6.6"
  },
  "language_info": {
   "codemirror_mode": {
    "name": "ipython",
    "version": 3
   },
   "file_extension": ".py",
   "mimetype": "text/x-python",
   "name": "python",
   "nbconvert_exporter": "python",
   "pygments_lexer": "ipython3",
   "version": "3.6.6"
  },
  "toc-autonumbering": false,
  "toc-showcode": false
 },
 "nbformat": 4,
 "nbformat_minor": 5
}

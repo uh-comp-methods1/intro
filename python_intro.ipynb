{
 "cells": [
  {
   "cell_type": "markdown",
   "id": "013ec8e1-4a21-456e-908e-fe166ff775bd",
   "metadata": {
    "tags": []
   },
   "source": [
    "# Introduction to Python using Jupyter\n",
    "\n",
    "Python is a general purpose programming language, however, we will focus on scientific computations using NumPy package. In the Jupyter environment, Python code is organized in cells that can be run seperately. Let's have a look at the following cell: "
   ]
  },
  {
   "cell_type": "code",
   "execution_count": null,
   "id": "e2887a7e-9093-43b3-acc7-ddab30ccd2c2",
   "metadata": {
    "tags": []
   },
   "outputs": [],
   "source": [
    "# (Comments in Python start with #)\n",
    "# Run the below code by clicking this cell and hitting shift+enter\n",
    "print('Hello world')"
   ]
  },
  {
   "cell_type": "markdown",
   "id": "ae34c88d-293b-42de-a872-38a9746c12e4",
   "metadata": {},
   "source": [
    "In what follows, the cells are meant to be run in the order they appear. Changing the ordering may cause errors. "
   ]
  },
  {
   "cell_type": "markdown",
   "id": "1e8ad42e-70f9-4d51-9bce-c6fb9d63701d",
   "metadata": {
    "tags": []
   },
   "source": [
    "## Using Python as a calculator\n",
    "\n",
    "An excellent way to learn Python is to read the \n",
    "[Python Tutorial](https://docs.python.org/3/tutorial/index.html). I have reproduced here a couple of examples from [Section 3.1](https://docs.python.org/3/tutorial/introduction.html#using-python-as-a-calculator) of the tutorial.\n",
    "\n",
    "Expression syntax is straightforward: the operators `+`, `-`, `*` and `/` work just like in most other languages (for example, Pascal or C); parentheses `()` can be used for grouping. For example:"
   ]
  },
  {
   "cell_type": "code",
   "execution_count": null,
   "id": "8d5c9a9c-806c-460a-a8b2-292db5ed0428",
   "metadata": {
    "tags": []
   },
   "outputs": [],
   "source": [
    "50 - 5*6"
   ]
  },
  {
   "cell_type": "code",
   "execution_count": null,
   "id": "d353bced-4806-45a3-acb2-34a58843b85a",
   "metadata": {
    "tags": []
   },
   "outputs": [],
   "source": [
    "(50 - 5*6) / 4"
   ]
  },
  {
   "cell_type": "code",
   "execution_count": null,
   "id": "79146f51-a21a-4983-92e7-99f44e5d6d93",
   "metadata": {
    "tags": []
   },
   "outputs": [],
   "source": [
    "8 / 5  # division always returns a floating point number"
   ]
  },
  {
   "cell_type": "markdown",
   "id": "3e8072f4-ec00-4310-880a-a74c35391288",
   "metadata": {},
   "source": [
    "## Variables \n",
    "\n",
    "A variable is an object where a value is stored. Let's have some examples"
   ]
  },
  {
   "cell_type": "code",
   "execution_count": null,
   "id": "bf278b4c-3b43-4eec-919e-1ac8ce630706",
   "metadata": {},
   "outputs": [],
   "source": [
    "# We define variables a, b and c\n",
    "a = 1\n",
    "b = 1\n",
    "c = a + b\n",
    "\n",
    "# We can change the value of a\n",
    "a = 2\n",
    "\n",
    "# Print all the three variables using formatted string, or f-strings, see\n",
    "# https://docs.python.org/3/reference/lexical_analysis.html#f-strings\n",
    "print(f'{a = }, {b = }, and {c = }')"
   ]
  },
  {
   "cell_type": "code",
   "execution_count": null,
   "id": "f7279a69-3942-4616-8419-f39bf21181a6",
   "metadata": {},
   "outputs": [],
   "source": [
    "# We can also print the value of one of the variables simply by\n",
    "a"
   ]
  },
  {
   "cell_type": "code",
   "execution_count": null,
   "id": "d5aaa5f3-4dcc-49a0-94d5-bb693d76e799",
   "metadata": {
    "tags": []
   },
   "outputs": [],
   "source": [
    "# Get info on all the variables\n",
    "%whos"
   ]
  },
  {
   "cell_type": "markdown",
   "id": "f1dbce48-e3a6-454e-9e42-e206278fecc2",
   "metadata": {
    "tags": []
   },
   "source": [
    "## The help system\n",
    "\n",
    "Appending a function or command name with `?` gives its short description. More detailed documentation can be found in the references at the bottom of the _Help_ menu. The JupyterLab environment consists of several components, and each of them is documented sepately. The following should help you to choose the right reference:\n",
    "* Python for regular python functions such as `print`\n",
    "* IPython for commands starting with `%`, for example `%whos`\n",
    "* NumPy for functions related to matrices\n",
    "* Matplotlib for functions related to plotting"
   ]
  },
  {
   "cell_type": "code",
   "execution_count": null,
   "id": "28a916af-5749-4a37-b02f-22067f817698",
   "metadata": {},
   "outputs": [],
   "source": [
    "# Get description of the print function\n",
    "print?"
   ]
  },
  {
   "cell_type": "code",
   "execution_count": null,
   "id": "b45bb534-0cbb-44e0-826a-a3ab3adb0405",
   "metadata": {
    "tags": []
   },
   "outputs": [],
   "source": [
    "# Get description of the %whos command\n",
    "%whos?"
   ]
  },
  {
   "cell_type": "code",
   "execution_count": null,
   "id": "b852d207-6ffe-4170-a828-9a5885785b7f",
   "metadata": {
    "tags": []
   },
   "outputs": [],
   "source": [
    "# Appending ? does not work with operators but the following does\n",
    "help('+')"
   ]
  },
  {
   "cell_type": "code",
   "execution_count": null,
   "id": "45ae108f-edee-4521-ad8d-bd8641242f93",
   "metadata": {},
   "outputs": [],
   "source": [
    "# You may find the interactive help system useful, personally I prefer googling\n",
    "# Note that running this opens up an input box and the kernel is in the busy state \n",
    "# (see the status line at the bottom) until you type 'quit' in the input box.\n",
    "help()"
   ]
  },
  {
   "cell_type": "markdown",
   "id": "477c2089-cf4e-4898-ab7c-b213527a480a",
   "metadata": {},
   "source": [
    "## Constants\n",
    "\n",
    "The imaginary unit is `1j`. Note that `j` by itself can be used as a name of a variable (but, to avoid confusion, you probably don't want to do this if you are also using complex numbers). NumPy package defines many commonly used  constants. Before we can use them we need to import the package. (For more info on importing see [Modules Section](https://docs.python.org/3/tutorial/modules.html#modules) of the Python Tutorial.)\n",
    "\n",
    "To import NumPy run the following cell. **If you restart the kernel you need to run the cell again.** In other words, if you get the error message _\"NameError: name 'np' is not defined\"_, then run the below cell. Note that the import statement does not produce any visible output."
   ]
  },
  {
   "cell_type": "code",
   "execution_count": null,
   "id": "59763f72-ba59-457a-ad2a-fd773c3d87b7",
   "metadata": {},
   "outputs": [],
   "source": [
    "import numpy as np"
   ]
  },
  {
   "cell_type": "markdown",
   "id": "f2636142-13e4-428d-854e-4c1c79b4e6a2",
   "metadata": {},
   "source": [
    "Recall that Euler's formula says $e^{\\pi i} + 1 = 0$. Let's write the left-hand side of the formula in Python."
   ]
  },
  {
   "cell_type": "code",
   "execution_count": null,
   "id": "b019509b-6df0-4df4-9cbc-dea64f7e27fa",
   "metadata": {},
   "outputs": [],
   "source": [
    "# Note that power is ** instead of the more common ^  \n",
    "# This should give zero up to the machine precision\n",
    "err = np.e**(np.pi * 1j) + 1\n",
    "err"
   ]
  },
  {
   "cell_type": "markdown",
   "id": "69968908-901e-4ea0-806f-f73c97b2c94d",
   "metadata": {},
   "source": [
    "The default data type for number in numpy is called `float`. (Somewhat confusingly, it is essentially synonymous to both `np.float_` and `np.double`, and on a typical system it is `np.float64`.) Let's get info on the precision and limits of this type."
   ]
  },
  {
   "cell_type": "code",
   "execution_count": null,
   "id": "8b8b1907-eb1c-490a-9717-7697a052142a",
   "metadata": {
    "tags": []
   },
   "outputs": [],
   "source": [
    "print(np.finfo(float))"
   ]
  },
  {
   "cell_type": "code",
   "execution_count": null,
   "id": "d19e89ea-16c7-4965-a1d6-6a3c28b1706e",
   "metadata": {},
   "outputs": [],
   "source": [
    "# Machine epsilon gives an upper bound on the relative error due to rounding \n",
    "# in floating point arithmetic. For our purposes this is \n",
    "eps = np.finfo(float).eps\n",
    "eps"
   ]
  },
  {
   "cell_type": "code",
   "execution_count": null,
   "id": "cc042043-8763-4ad3-853d-aedf3a5eec4b",
   "metadata": {},
   "outputs": [],
   "source": [
    "# Check that the rounding error err above is indeed less than eps\n",
    "abs(err) < eps"
   ]
  },
  {
   "cell_type": "code",
   "execution_count": null,
   "id": "6333bffd-361a-481f-b24a-ef383881f33c",
   "metadata": {},
   "outputs": [],
   "source": [
    "# Print eps after rounding to two digits\n",
    "print(f'{eps:.1e}')"
   ]
  },
  {
   "cell_type": "markdown",
   "id": "ea05a211-ca14-46aa-8b60-86b13bd3e7c2",
   "metadata": {},
   "source": [
    "## Mathematical functions\n",
    "\n",
    "See the [list of mathematical functions](https://numpy.org/doc/stable/reference/routines.math.html) in NumPy for documentation of many mathematical functions.\n",
    "\n",
    "Recall that $\\sin(\\pi) = 0$. Let's write the left-hand side of the formula in Python."
   ]
  },
  {
   "cell_type": "code",
   "execution_count": null,
   "id": "19255b86-2649-4158-b5ad-9604c328f95e",
   "metadata": {},
   "outputs": [],
   "source": [
    "# This should give zero up to the machine precision\n",
    "np.sin(np.pi)"
   ]
  },
  {
   "cell_type": "markdown",
   "id": "ac2e7b19-9f48-4494-bbce-9a05ae96f0c4",
   "metadata": {},
   "source": [
    "## First steps towards programming\n",
    "\n",
    "Consult [Section 3.3](https://docs.python.org/3/tutorial/introduction.html#first-steps-towards-programming) of the tutorial for a detailed explanation of the below example. "
   ]
  },
  {
   "cell_type": "code",
   "execution_count": null,
   "id": "fd8e73e8-bde5-4d4e-81b8-cd875bce72da",
   "metadata": {},
   "outputs": [],
   "source": [
    "# Fibonacci series:\n",
    "# the sum of two elements defines the next\n",
    "a, b = 0, 1\n",
    "while a < 10:\n",
    "    print(a)\n",
    "    a, b = b, a+b"
   ]
  },
  {
   "cell_type": "markdown",
   "id": "067f0d18-0042-436a-8edc-f98921ae0969",
   "metadata": {},
   "source": [
    "## Control flow\n",
    "\n",
    "Consult [Section 4](https://docs.python.org/3/tutorial/controlflow.html#more-control-flow-tools) of the tutorial for a detailed explanation of the below examples. "
   ]
  },
  {
   "cell_type": "code",
   "execution_count": null,
   "id": "3fe99bde-45fb-4a49-8c74-0a4c71200b62",
   "metadata": {},
   "outputs": [],
   "source": [
    "x = int(input(\"Please enter an integer: \"))\n",
    "\n",
    "if x < 0:\n",
    "    x = 0\n",
    "    print('Negative changed to zero')\n",
    "elif x == 0:\n",
    "    print('Zero')\n",
    "elif x == 1:\n",
    "    print('Single')\n",
    "else:\n",
    "    print('More')"
   ]
  },
  {
   "cell_type": "code",
   "execution_count": null,
   "id": "09ad89c2-6fb6-4c86-a764-d5d4cb914a7a",
   "metadata": {},
   "outputs": [],
   "source": [
    "for i in range(5):\n",
    "    print(i)"
   ]
  },
  {
   "cell_type": "code",
   "execution_count": null,
   "id": "6e40c4b7-3b04-4eaa-bf50-a993995d57a9",
   "metadata": {},
   "outputs": [],
   "source": [
    "for n in range(2, 10):\n",
    "    for x in range(2, n):\n",
    "        if n % x == 0:\n",
    "            print(n, 'equals', x, '*', n//x)\n",
    "            break\n",
    "    else:\n",
    "        # loop fell through without finding a factor\n",
    "        print(n, 'is a prime number')"
   ]
  },
  {
   "cell_type": "markdown",
   "id": "738dbd0b-d692-47c5-a254-45dff5322786",
   "metadata": {},
   "source": [
    "## Functions\n",
    "\n",
    "The below example is from [Section 4.1](https://docs.python.org/3/tutorial/controlflow.html#defining-functions) of the tutorial. Here the first statement of the function body is a string literal; this is the function’s documentation string, or docstring. (More about docstrings can be found in the section [Documentation Strings](https://docs.python.org/3/tutorial/controlflow.html#tut-docstrings).) One nice feature is that docstrings work with the help system. "
   ]
  },
  {
   "cell_type": "code",
   "execution_count": null,
   "id": "778fbaf9-09ea-42da-a659-8e876ea531ea",
   "metadata": {},
   "outputs": [],
   "source": [
    "def fib2(n): \n",
    "    \"\"\"Return a list containing the Fibonacci series up to n.\"\"\"\n",
    "    result = []\n",
    "    a, b = 0, 1\n",
    "    while a < n:\n",
    "        result.append(a)    \n",
    "        a, b = b, a+b\n",
    "    return result\n",
    "\n",
    "# Now call the function we just defined:\n",
    "fib2(2000)"
   ]
  },
  {
   "cell_type": "code",
   "execution_count": null,
   "id": "d48852fc-188b-4134-93f8-a8d15078e47d",
   "metadata": {},
   "outputs": [],
   "source": [
    "fib2?"
   ]
  },
  {
   "cell_type": "code",
   "execution_count": null,
   "id": "fca75075-513c-4e86-934e-7c8f644437a4",
   "metadata": {},
   "outputs": [],
   "source": [
    "# We can see the full definition of fib2 function as follows\n",
    "fib2??"
   ]
  },
  {
   "cell_type": "markdown",
   "id": "fb3e268e-50a9-4ea3-859a-149d059aebf7",
   "metadata": {},
   "source": [
    "## Matrices and vectors\n",
    "\n",
    "NumPy implements the most common operations and functions related to matrices and vectors. If you are familiar with Matlab, the best place to start is the guide for [Matlab users](https://numpy.org/doc/stable/user/numpy-for-matlab-users.html#numpy-for-matlab-users). Even if you don't know Matlab, the guide is worth glancing at since it summarizes well the features of NumPy. In addition to what follows, you might want to read also [NumPy: the absolute basics for beginners](https://numpy.org/doc/stable/user/absolute_beginners.html) document.\n",
    "\n",
    "I have reproduced here some examples from [NumPy quickstart](https://numpy.org/doc/stable/user/quickstart.html#numpy-quickstart) guide. Some of the examples have been modified slightly. In NumPy's documentation both vectors and matrices are called arrays."
   ]
  },
  {
   "cell_type": "code",
   "execution_count": null,
   "id": "2447c1cb-99cd-4bd8-9411-a9ae9c4dc58a",
   "metadata": {},
   "outputs": [],
   "source": [
    "# Define a vector with 4 elements\n",
    "# Here the vector is created from a list\n",
    "# See Section 3.1.3 of the Python Tutorial for info on lists:\n",
    "# https://docs.python.org/3/tutorial/introduction.html#lists\n",
    "x = np.array([1.2, 3.5, 5.1, 0])\n",
    "x"
   ]
  },
  {
   "cell_type": "code",
   "execution_count": null,
   "id": "d937b380-4738-4bca-bc25-9a733bc1be7f",
   "metadata": {},
   "outputs": [],
   "source": [
    "# Create 3 x 4 matrix full of zeros\n",
    "a = np.zeros((3, 4))\n",
    "a"
   ]
  },
  {
   "cell_type": "code",
   "execution_count": null,
   "id": "64a660c5-8f16-4f9d-9537-8cfc7538318d",
   "metadata": {},
   "outputs": [],
   "source": [
    "# Dimensions of x and a\n",
    "print(f'{x.shape = } and {a.shape = }')\n",
    "# Number of elements in x and a\n",
    "print(f'{x.size = } and {a.size = }')"
   ]
  },
  {
   "cell_type": "code",
   "execution_count": null,
   "id": "30639b76-b2c1-4440-9d24-929da17a054e",
   "metadata": {},
   "outputs": [],
   "source": [
    "# Create a vector with 9 evenly spaced numbers between 0 and 2\n",
    "np.linspace(0, 2, 9)"
   ]
  },
  {
   "cell_type": "code",
   "execution_count": null,
   "id": "68565259-19c7-443a-81e8-51c59b553535",
   "metadata": {},
   "outputs": [],
   "source": [
    "# If an array is too large to be printed,\n",
    "# NumPy automatically skips the central part of the array and only prints the corners\n",
    "np.linspace(0, 2, 1001)"
   ]
  },
  {
   "cell_type": "code",
   "execution_count": null,
   "id": "c668ebb7-0d85-4c09-8dfb-bbe294ec0949",
   "metadata": {},
   "outputs": [],
   "source": [
    "# This behaviour is controlled by threshold in printoptions, see\n",
    "# https://numpy.org/doc/stable/reference/generated/numpy.set_printoptions.html#numpy-set-printoptions\n",
    "# Funtion get_printoptions returns the options as a dictionary.\n",
    "# For more info on dictionaries see Section 5.5 of the Python Tutorial\n",
    "# https://docs.python.org/3/tutorial/datastructures.html#dictionaries\n",
    "np.get_printoptions()['threshold']"
   ]
  },
  {
   "cell_type": "code",
   "execution_count": null,
   "id": "fcdddc28-4542-422c-bbe0-4af038592c3e",
   "metadata": {},
   "outputs": [],
   "source": [
    "# Arithmetic operators on arrays apply elementwise.\n",
    "# A new array is created and filled with the result.\n",
    "a = np.array([20, 30, 40, 50])\n",
    "b = np.arange(4)\n",
    "b"
   ]
  },
  {
   "cell_type": "code",
   "execution_count": null,
   "id": "959a3877-3b14-443f-a8ab-796fcbaab0e6",
   "metadata": {},
   "outputs": [],
   "source": [
    "c = a - b\n",
    "c"
   ]
  },
  {
   "cell_type": "code",
   "execution_count": null,
   "id": "5f56c451-ef67-4411-a583-9378ae8081f4",
   "metadata": {},
   "outputs": [],
   "source": [
    "# Many mathematical functions apply elementwise\n",
    "10 * np.sin(a)"
   ]
  },
  {
   "cell_type": "code",
   "execution_count": null,
   "id": "0ffd851c-d0ad-48c8-bbfa-8aa1253545a4",
   "metadata": {},
   "outputs": [],
   "source": [
    "# The matrix product can be performed using the @ operator\n",
    "A = np.array([\n",
    "    [1, 1],\n",
    "    [0, 1]])\n",
    "B = np.array([\n",
    "    [2, 0],\n",
    "    [3, 4]])\n",
    "A @ B"
   ]
  },
  {
   "cell_type": "code",
   "execution_count": null,
   "id": "f6bd1f03-97c6-4107-a1fb-cf46d02f1e90",
   "metadata": {},
   "outputs": [],
   "source": [
    "# Some operations, such as += and *=, act in place to modify an existing array rather than create a new one.\n",
    "a = np.ones((2, 3)) # 2 x 3 matrix full of ones\n",
    "# Let's use some random numbers for our next example matrix\n",
    "rg = np.random.default_rng()  # create instance of default random number generator\n",
    "b = rg.random((2, 3)) # 2 x 3 matrix full of uniform random numbers in the interval [0,1)\n",
    "a *= 3\n",
    "a"
   ]
  },
  {
   "cell_type": "code",
   "execution_count": null,
   "id": "0b14e1d7-7581-4640-a277-f17f43af7beb",
   "metadata": {},
   "outputs": [],
   "source": [
    "b += a\n",
    "b"
   ]
  },
  {
   "cell_type": "code",
   "execution_count": null,
   "id": "105bca34-b972-490c-98ac-fdbcd4bf7377",
   "metadata": {},
   "outputs": [],
   "source": [
    "# If you had a look at the the NumPy quickstart guide, \n",
    "# you might wonder what class and method mean in the following passage:\n",
    "# \"Many unary operations, such as computing the sum of all the elements in the array, \n",
    "# are implemented as methods of the ndarray class.\"\n",
    "# An explanation can be found in Section 9 of the Python Tutorial, see\n",
    "# https://docs.python.org/3/tutorial/classes.html#classes\n",
    "# We are not going to define any classes in this course, though, so this is not very important.\n",
    "\n",
    "# By default, unary operations apply to the array as though it were a list of numbers, regardless of its shape. \n",
    "b.sum()    # sum of all elements"
   ]
  },
  {
   "cell_type": "code",
   "execution_count": null,
   "id": "40e1491c-25ef-4b5d-a1de-a4bbbc474706",
   "metadata": {},
   "outputs": [],
   "source": [
    "# However, by specifying the axis parameter you can apply an operation along the specified axis of an array:\n",
    "b.sum(axis=0)    # sum of each column"
   ]
  },
  {
   "cell_type": "code",
   "execution_count": null,
   "id": "548d417b-e7d1-4b53-92bc-ce462469cc02",
   "metadata": {},
   "outputs": [],
   "source": [
    "b.min(axis=1)    # min of each row"
   ]
  },
  {
   "cell_type": "code",
   "execution_count": null,
   "id": "f319b7a7-ab6c-4e9b-b491-d888d26106ac",
   "metadata": {},
   "outputs": [],
   "source": [
    "# Arrays can be iterated over, indexed and sliced \n",
    "a = np.arange(10)**3\n",
    "a"
   ]
  },
  {
   "cell_type": "code",
   "execution_count": null,
   "id": "98a921e2-c96c-4b27-99d1-95699c4b284c",
   "metadata": {},
   "outputs": [],
   "source": [
    "for i in a:\n",
    "    print(i**(1 / 3.))  # Rounding errors are observed in the cube root"
   ]
  },
  {
   "cell_type": "code",
   "execution_count": null,
   "id": "35a2aaa8-f0e2-4ec4-a140-a1d25eb68b01",
   "metadata": {},
   "outputs": [],
   "source": [
    "a[2]"
   ]
  },
  {
   "cell_type": "code",
   "execution_count": null,
   "id": "ffd4ffe2-5a6b-4a4f-858f-73ac5f1fbb3d",
   "metadata": {},
   "outputs": [],
   "source": [
    "a[2:5]"
   ]
  },
  {
   "cell_type": "code",
   "execution_count": null,
   "id": "8c910261-a71f-47ec-90f7-4ce48dedc386",
   "metadata": {},
   "outputs": [],
   "source": [
    "# from start to position 6, exclusive, set every 2nd element to 1000\n",
    "a[:6:2] = 1000\n",
    "a"
   ]
  },
  {
   "cell_type": "code",
   "execution_count": null,
   "id": "0841ad9f-bc28-48c5-bd63-b055cf5eece1",
   "metadata": {},
   "outputs": [],
   "source": [
    "a[::-1]  # reversed a"
   ]
  },
  {
   "cell_type": "code",
   "execution_count": null,
   "id": "ffc16dde-3fa7-4f2d-bc32-563d71bfd51d",
   "metadata": {},
   "outputs": [],
   "source": [
    "def f(x, y):\n",
    "    return 10 * x + y\n",
    "b = np.fromfunction(f, (5, 4))\n",
    "b"
   ]
  },
  {
   "cell_type": "code",
   "execution_count": null,
   "id": "1d56525b-5f14-498f-8a3f-34058644631b",
   "metadata": {},
   "outputs": [],
   "source": [
    "b[2, 3]"
   ]
  },
  {
   "cell_type": "code",
   "execution_count": null,
   "id": "7a1d444c-b340-4241-a90f-90542b444c55",
   "metadata": {},
   "outputs": [],
   "source": [
    "b[0:5, 1]  # each row in the second column of b"
   ]
  },
  {
   "cell_type": "code",
   "execution_count": null,
   "id": "900b24d6-e72a-42f3-854d-00c1bc7a68d1",
   "metadata": {},
   "outputs": [],
   "source": [
    "b[:, 1]    # equivalent to the previous example"
   ]
  },
  {
   "cell_type": "code",
   "execution_count": null,
   "id": "5165f834-1e2f-4444-9ef5-e6eef31d97ce",
   "metadata": {},
   "outputs": [],
   "source": [
    "b[1:3, :]  # each column in the second and third row of b"
   ]
  },
  {
   "cell_type": "code",
   "execution_count": null,
   "id": "2f6c5eb2-60ed-4d16-a556-72447f602fa7",
   "metadata": {},
   "outputs": [],
   "source": [
    "b[-1]   # the last row. Equivalent to b[-1, :]"
   ]
  },
  {
   "cell_type": "code",
   "execution_count": null,
   "id": "0ad0daf7-5546-44d4-bd48-1533a8f50828",
   "metadata": {},
   "outputs": [],
   "source": [
    "# Iterating over multidimensional arrays is done with respect to the first axis:\n",
    "for row in b:\n",
    "    print(row)"
   ]
  },
  {
   "cell_type": "code",
   "execution_count": null,
   "id": "1250fb4b-6eef-4c2b-a3a4-e4e89352dc9d",
   "metadata": {},
   "outputs": [],
   "source": [
    "# However, if one wants to perform an operation on each element in the array, \n",
    "# one can use the flat attribute which is an iterator over all the elements of the array:\n",
    "for element in b.flat:\n",
    "    print(element)"
   ]
  },
  {
   "cell_type": "code",
   "execution_count": null,
   "id": "df5b0e5e-d626-44eb-a5d4-41078ebd577f",
   "metadata": {},
   "outputs": [],
   "source": [
    "# The diagonal of a 4 x 4 submatrix of b\n",
    "d = np.diag(b[0:4])\n",
    "d"
   ]
  },
  {
   "cell_type": "code",
   "execution_count": null,
   "id": "1a6355da-4559-4bbb-b140-82db31a41997",
   "metadata": {},
   "outputs": [],
   "source": [
    "# Create a diagonal matrix\n",
    "np.diag(d, 0)"
   ]
  },
  {
   "cell_type": "code",
   "execution_count": null,
   "id": "72a4f220-6510-4f92-bb2c-a5fb77086466",
   "metadata": {},
   "outputs": [],
   "source": [
    "# Simple assignments or function calls make no copies.\n",
    "a = np.array([\n",
    "    [ 0,  1,  2,  3],\n",
    "    [ 4,  5,  6,  7],\n",
    "    [ 8,  9, 10, 11]])\n",
    "b = a    # no new array is created\n",
    "b is a   # a and b are two names for the array"
   ]
  },
  {
   "cell_type": "code",
   "execution_count": null,
   "id": "aac513c6-b365-45d0-98db-8583541466c2",
   "metadata": {},
   "outputs": [],
   "source": [
    "b[0,0] = -100\n",
    "a"
   ]
  },
  {
   "cell_type": "code",
   "execution_count": null,
   "id": "715dc46d-2c8b-4d28-bbe5-078ad5a79dd3",
   "metadata": {},
   "outputs": [],
   "source": [
    "# Slicing an array returns a view of it, not a copy.\n",
    "s = a[:, 0:1]\n",
    "s[0,0] = -200\n",
    "a"
   ]
  },
  {
   "cell_type": "code",
   "execution_count": null,
   "id": "2ee5b28e-4fde-44eb-819f-20d5f9966da5",
   "metadata": {},
   "outputs": [],
   "source": [
    "# The copy method makes a complete copy of the array and its data.\n",
    "d = a.copy()\n",
    "d[0, 0] = 9999\n",
    "a"
   ]
  },
  {
   "cell_type": "code",
   "execution_count": null,
   "id": "b7daf66e-43df-4267-9d58-a63f03fc2b08",
   "metadata": {},
   "outputs": [],
   "source": [
    "# The shape of an array can be changed with various commands. \n",
    "# Note that the following three commands all return a modified array, \n",
    "# but do not change the original array.\n",
    "# (If you want to change it, use resize.)\n",
    "a = np.floor(10 * rg.random((3, 4)))\n",
    "a"
   ]
  },
  {
   "cell_type": "code",
   "execution_count": null,
   "id": "82e4a661-484b-4591-8661-4584086da671",
   "metadata": {},
   "outputs": [],
   "source": [
    "a.ravel()  # returns the array, flattened"
   ]
  },
  {
   "cell_type": "code",
   "execution_count": null,
   "id": "15407f7c-8952-47d1-a719-503e4a6a51ab",
   "metadata": {},
   "outputs": [],
   "source": [
    "a.reshape(6, 2)"
   ]
  },
  {
   "cell_type": "code",
   "execution_count": null,
   "id": "29cc8cfc-fa34-4e21-aa8d-a82460b5e0e7",
   "metadata": {},
   "outputs": [],
   "source": [
    "a.T  # returns the array, transposed"
   ]
  },
  {
   "cell_type": "code",
   "execution_count": null,
   "id": "f5afc56a-eafe-4bc2-9d27-b3b6ed77c652",
   "metadata": {},
   "outputs": [],
   "source": [
    "print(f'{a.T.shape = } and {a.shape = }')"
   ]
  },
  {
   "cell_type": "code",
   "execution_count": null,
   "id": "66d57a80-97a8-411c-987e-f795e61ad1c1",
   "metadata": {},
   "outputs": [],
   "source": [
    "# Several arrays can be stacked together along different axes\n",
    "# You can also experiment with column_stack, vstack and hstack, see\n",
    "# https://numpy.org/doc/stable/user/quickstart.html#stacking-together-different-arrays\n",
    "# For the opposite effect, that is, splitting, use vsplit and hsplit, see\n",
    "# https://numpy.org/doc/stable/user/quickstart.html#splitting-one-array-into-several-smaller-ones\n",
    "a = np.array([4., 2.])\n",
    "b = np.array([3., 8.])\n",
    "np.row_stack((a, b))"
   ]
  },
  {
   "cell_type": "markdown",
   "id": "168a9fb5-8994-438f-8a96-003a0a351bab",
   "metadata": {},
   "source": [
    "For more advanced topics, see [Less Basic](https://numpy.org/doc/stable/user/quickstart.html#less-basic) section of  the NumPy quickstart guide. For still more advanced things, see [NumPy user guide](https://numpy.org/doc/stable/user/index.html)."
   ]
  },
  {
   "cell_type": "markdown",
   "id": "2254a07d-bf76-4efa-877a-0f9d88a0d95d",
   "metadata": {},
   "source": [
    "## Plotting\n",
    "\n",
    "We will use Pyplot (a part of Matplotlib) that is a collection of functions that work like those in Matlab. For an introdution see [Pyplot tutorial](https://matplotlib.org/stable/tutorials/introductory/pyplot.html#pyplot-tutorial). (Note that when running Pyplot in Jupyter, you don't need to use the show function that you see in many examples.)\n",
    "\n",
    "To enable plotting we need to import Matplotlib package by running the following cell. **If you restart the kernel you need to run the cell again.** In other words, if you get the error message _\"NameError: name 'plt' is not defined\"_, then run the below cell. Note that the import statement does not produce any visible output."
   ]
  },
  {
   "cell_type": "code",
   "execution_count": null,
   "id": "5f3c9492-1445-4088-8448-d6af0f96f95a",
   "metadata": {},
   "outputs": [],
   "source": [
    "import matplotlib.pyplot as plt"
   ]
  },
  {
   "cell_type": "code",
   "execution_count": null,
   "id": "201dc6e5-33f3-458d-b763-abf06f259102",
   "metadata": {},
   "outputs": [],
   "source": [
    "# Plot one period of the sin function\n",
    "xs = np.linspace(0, 2*np.pi)\n",
    "ys = np.sin(xs)\n",
    "plt.plot(xs, ys); # ; hides the output of this command"
   ]
  },
  {
   "cell_type": "code",
   "execution_count": null,
   "id": "885bdf0f-cc51-4c91-9771-6e578d81bf0b",
   "metadata": {},
   "outputs": [],
   "source": [
    "# Plot both sin and cos with some tuning of the x axis\n",
    "L = 2*np.pi\n",
    "xs = np.linspace(0, L)\n",
    "plt.plot(xs, np.sin(xs), 'b-')   # sin in blue solid line\n",
    "plt.plot(xs, np.cos(xs), 'r--')  # cos in red dashed line\n",
    "plt.gca().set(\n",
    "    xlim = (0, L),   # remove white space on left and right\n",
    "    xticks = np.pi * np.array([0, .5, 1, 1.5, 2]),\n",
    "    xticklabels = ['0', '$\\pi/2$', '$\\pi$', '$3\\pi/2$', '$2\\pi$'],\n",
    "    ); "
   ]
  },
  {
   "cell_type": "code",
   "execution_count": null,
   "id": "7d5f3b88-9859-4700-894e-bfb1dd16b598",
   "metadata": {},
   "outputs": [],
   "source": [
    "# See the end of the docstring of plt.plot for more formatting options \n",
    "# like 'b-' and 'r--'\n",
    "plt.plot?"
   ]
  },
  {
   "cell_type": "code",
   "execution_count": null,
   "id": "c0e3fedc-f4e4-4bb7-bd4f-e9e10d190d66",
   "metadata": {},
   "outputs": [],
   "source": [
    "# Log-log plots are useful, for example, for showing convergence rates\n",
    "xs = np.linspace(1, 2)\n",
    "ys = xs**2\n",
    "plt.plot(xs, ys)    # plot the function f(x) = x^2 \n",
    "plt.figure()        # create a new figure, otherwise the previous plot is overwritten\n",
    "plt.loglog(xs, ys); # plot the same function f with log scales on both axes "
   ]
  },
  {
   "cell_type": "code",
   "execution_count": null,
   "id": "af91637b-2ca8-476e-afca-f5571315200b",
   "metadata": {},
   "outputs": [],
   "source": [
    "# Plot a Gaussian function of two variables\n",
    "\n",
    "# Enable the interactive features of matplotlib so that \n",
    "# we can rotate the plot by dragging \n",
    "# To revert back to the usual plots run %matplotlib inline\n",
    "%matplotlib widget\n",
    "\n",
    "from matplotlib import cm # import colormaps\n",
    "\n",
    "xs = np.linspace(-1,1)\n",
    "Xs, Ys = np.meshgrid(xs, xs)\n",
    "c = 8\n",
    "Zs = np.exp(-c*(Xs**2 + Ys**2))\n",
    "fig, ax = plt.subplots(subplot_kw={\"projection\": \"3d\"})\n",
    "surf = ax.plot_surface(Xs, Ys, Zs, cmap=cm.coolwarm)\n",
    "\n",
    "# Add a color bar which maps values to colors.\n",
    "fig.colorbar(surf, shrink=0.5, aspect=5);"
   ]
  },
  {
   "cell_type": "markdown",
   "id": "6ddc0df6-a76b-4134-b02e-66474b6975e4",
   "metadata": {
    "tags": []
   },
   "source": [
    "## Debugging\n",
    "\n",
    "Debugging is the process of finding and resolving bugs (defects or problems that prevent correct operation).\n",
    "Perhaps the simplest way to debug is to print some intermediate results and auxiliary info. While this can be done using the `print` function, it can be convenient to use `logging` package since then the auxiliary debug info can easily be turned on and off. For more info on logging see [Logging HOWTO](https://docs.python.org/3/howto/logging.html).\n",
    "\n",
    "You can also use a debugger by clicking the bug icon in the top right corner. Then click a line number in the code below to set a breakpoint, and run the code. The debugger will stop at that line, and you can, for example, inspect variables and run the code line by line. See the documentation of [Jupyter](https://jupyterlab.readthedocs.io/en/stable/user/debugger.html#usage) for a brief animation illustrating this."
   ]
  },
  {
   "cell_type": "code",
   "execution_count": null,
   "id": "7f0fe535-68e2-4471-8ea6-a185eb19bf75",
   "metadata": {
    "tags": []
   },
   "outputs": [],
   "source": [
    "import logging\n",
    "from logging import info\n",
    "# Debug messages can be turned off by changing DEBUG to WARNING in the below line\n",
    "logging.getLogger().setLevel(logging.INFO);\n",
    "\n",
    "def rowreduce(a):\n",
    "    '''Naive Gaussian elimination of a matrix'''\n",
    "    n = a.shape[0] # size of the matrix (that is assumed to be square)\n",
    "    for j in range(n-1):\n",
    "        d = a[j,j] # the jth diagonal element \n",
    "        #TODO We should check that d is not zero here!\n",
    "        for k in range(j+1,n):\n",
    "            mu = - a[k,j]/d\n",
    "            a[k] = a[k] + mu*a[j]\n",
    "\n",
    "        info(f'The matrix after elimination in col {j+1} \\n{a}') \n",
    "\n",
    "# Define a numpy matrix, more on this later\n",
    "a = np.array([\n",
    "    [1,2,3],\n",
    "    [2,3,4],\n",
    "    [3,4,6],\n",
    "    ])\n",
    "print(f'Original matrix\\n{a}')\n",
    "# You can add here a line saying \n",
    "# sys.stdout.flush() \n",
    "# to get the expected order of output. This requires importing sys.\n",
    "rowreduce(a) # This changes a\n",
    "print(f'Matrix after row reduction\\n{a}')"
   ]
  },
  {
   "cell_type": "markdown",
   "id": "fda01f8f-b381-4b08-92bd-dd0d962d1f86",
   "metadata": {},
   "source": [
    "## Profiling\n",
    "\n",
    "Profiling means evaluating the time (or other resource) required by a function to run. Let's have an example based on the `fib2` function that we defined above. (Rerun the cell defining `fib2` if you get the error *\"NameError: name 'fib2' is not defined\"*.) Commands `%time` and `%timeit` give simple ways to evaluate runtimes. The difference is that the latter gives an average over several runs while the former uses a single run. More sophisticated profiling is discussed for example in this [blog post](https://towardsdatascience.com/speed-up-jupyter-notebooks-20716cbe2025). "
   ]
  },
  {
   "cell_type": "code",
   "execution_count": null,
   "id": "1f66507a-bed8-4d0a-b23f-0bd8d100ad70",
   "metadata": {
    "tags": []
   },
   "outputs": [],
   "source": [
    "# We don't care about the output of fib2 so we use _ to indicate a throw away variable\n",
    "%time _ = fib2(1e6)"
   ]
  },
  {
   "cell_type": "code",
   "execution_count": null,
   "id": "e0377f2a-4bc1-4e19-b8e2-6417a8334ae3",
   "metadata": {
    "tags": []
   },
   "outputs": [],
   "source": [
    "%timeit _ = fib2(1e6) # Running this takes a while so be patient"
   ]
  }
 ],
 "metadata": {
  "kernelspec": {
   "display_name": "Python 3 (ipykernel)",
   "language": "python",
   "name": "python3"
  },
  "language_info": {
   "codemirror_mode": {
    "name": "ipython",
    "version": 3
   },
   "file_extension": ".py",
   "mimetype": "text/x-python",
   "name": "python",
   "nbconvert_exporter": "python",
   "pygments_lexer": "ipython3",
   "version": "3.9.6"
  },
  "toc-autonumbering": false,
  "toc-showcode": false
 },
 "nbformat": 4,
 "nbformat_minor": 5
}

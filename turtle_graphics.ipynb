{
 "cells": [
  {
   "cell_type": "markdown",
   "id": "604e05b7-1416-48f6-833e-ff817cf0a0ff",
   "metadata": {},
   "source": [
    "# Turtle graphics\n",
    "\n",
    "The module `kilpikonna` implements a very simple version of [Turtle graphics](https://en.wikipedia.org/wiki/Turtle_graphics). \n",
    "Python's standard library includes a Turtle graphics module, see [turtle](https://docs.python.org/3/library/turtle.html),\n",
    "but this is awkward to use in JupyterLab. Turtle graphics is a popular way for introducing programming to kids, but it is fun for grown-ups as well. \n",
    "\n",
    "For example, you can recreate the examples in Chapter 3 of the visonary book [Mindstorms](https://mindstorms.media.mit.edu/) by Seymour Papert. \n",
    "\n",
    "The commands in [Logo](https://en.wikipedia.org/wiki/Logo_(programming_language)), used in the book, translate to Python as follows\n",
    "* `FORWARD 100` corresponds to `forward(100)`, and `RIGHT`, `BACKWARD` and `LEFT` translate in an analogous manner\n",
    "* `ERASE` is not implemented in `kilpikonna`\n",
    "* Function definitions like `TO SQUARE ... END` can be replaced by Python [functions](https://docs.python.org/3/tutorial/controlflow.html#defining-functions), an example is given below\n",
    "* Loops like `REPEAT 4 ... END`, can be replaced by Python [for statements](https://docs.python.org/3/tutorial/controlflow.html#for-statements), an example is given below"
   ]
  },
  {
   "cell_type": "code",
   "execution_count": null,
   "id": "213a8bc8-7795-416d-8ab6-70789e7cac51",
   "metadata": {},
   "outputs": [],
   "source": [
    "# Load kilpikonna and display Turtle, depicted by the red triangle\n",
    "from kilpikonna import *\n",
    "display_turtle()"
   ]
  },
  {
   "cell_type": "markdown",
   "id": "6907f2e3-06fd-468f-90f2-36df4306c786",
   "metadata": {},
   "source": [
    "## Drawing with Turtle\n",
    "\n",
    "Let's draw a square.\n",
    "\n",
    "If you write a long list of commands to Turtle, you may want to right-click the `turtle_graphics.ipynb` tab and select New View for Notebook. Then you can see the code and Turtle side-by-side."
   ]
  },
  {
   "cell_type": "code",
   "execution_count": null,
   "id": "b5cef741-2006-4f46-8947-967eeb4d1924",
   "metadata": {},
   "outputs": [],
   "source": [
    "def square(size):\n",
    "    for _ in range(4):\n",
    "        forward(size)\n",
    "        right(90)\n",
    "\n",
    "square(100)"
   ]
  },
  {
   "cell_type": "code",
   "execution_count": null,
   "id": "f2fb0e87-d9f5-41a7-a5b7-b25078e7784e",
   "metadata": {},
   "outputs": [],
   "source": []
  }
 ],
 "metadata": {
  "kernelspec": {
   "display_name": "Python 3",
   "language": "python",
   "name": "python3"
  },
  "language_info": {
   "codemirror_mode": {
    "name": "ipython",
    "version": 3
   },
   "file_extension": ".py",
   "mimetype": "text/x-python",
   "name": "python",
   "nbconvert_exporter": "python",
   "pygments_lexer": "ipython3",
   "version": "3.10.0"
  },
  "scenes_data": {
   "active_scene": "Default Scene",
   "init_scene": "",
   "scenes": [
    "Default Scene"
   ]
  }
 },
 "nbformat": 4,
 "nbformat_minor": 5
}

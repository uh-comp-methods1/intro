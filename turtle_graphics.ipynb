{
 "cells": [
  {
   "cell_type": "code",
   "execution_count": null,
   "id": "213a8bc8-7795-416d-8ab6-70789e7cac51",
   "metadata": {},
   "outputs": [],
   "source": [
    "from kilpikonna import *\n",
    "display_turtle()"
   ]
  },
  {
   "cell_type": "code",
   "execution_count": null,
   "id": "b5cef741-2006-4f46-8947-967eeb4d1924",
   "metadata": {},
   "outputs": [],
   "source": [
    "for _ in range(4):\n",
    "    forward(100)\n",
    "    left(90)"
   ]
  },
  {
   "cell_type": "code",
   "execution_count": null,
   "id": "f2fb0e87-d9f5-41a7-a5b7-b25078e7784e",
   "metadata": {},
   "outputs": [],
   "source": []
  }
 ],
 "metadata": {
  "kernelspec": {
   "display_name": "Python 3",
   "language": "python",
   "name": "python3"
  },
  "language_info": {
   "codemirror_mode": {
    "name": "ipython",
    "version": 3
   },
   "file_extension": ".py",
   "mimetype": "text/x-python",
   "name": "python",
   "nbconvert_exporter": "python",
   "pygments_lexer": "ipython3",
   "version": "3.9.7"
  }
 },
 "nbformat": 4,
 "nbformat_minor": 5
}

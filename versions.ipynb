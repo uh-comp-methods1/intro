{
 "cells": [
  {
   "cell_type": "markdown",
   "id": "c6d0d63c-bd29-404a-b0d3-a489aff2015e",
   "metadata": {},
   "source": [
    "# Version information\n",
    "\n",
    "Print the versions of the most important packages in the same form as in `environment.yml`. Print also the path of the Python interpreter to see that we are using the correct one.  "
   ]
  },
  {
   "cell_type": "code",
   "execution_count": null,
   "id": "1c3ae5ec-9e7d-4eaf-a6e5-cfbc17a9d85f",
   "metadata": {},
   "outputs": [],
   "source": [
    "import sys\n",
    "print(sys.executable)\n",
    "\n",
    "import platform\n",
    "import numpy as np\n",
    "import matplotlib as mpl\n",
    "import scipy\n",
    "import sympy as sp\n",
    "import pandas as pd\n",
    "\n",
    "print(f'  - python={platform.python_version()}')\n",
    "print(f'  - numpy={np.__version__}')\n",
    "print(f'  - matplotlib={mpl.__version__}')\n",
    "print(f'  - scipy={scipy.__version__}')\n",
    "print(f'  - sympy={sp.__version__}')\n",
    "print(f'  - pandas={pd.__version__}')"
   ]
  },
  {
   "cell_type": "markdown",
   "id": "8a57b577-adf0-4620-a0df-d0e8a002c185",
   "metadata": {},
   "source": [
    "# Testing more complicated widgets"
   ]
  },
  {
   "cell_type": "code",
   "execution_count": null,
   "id": "046c0f21-3543-4981-b087-450ddfc9b1fd",
   "metadata": {},
   "outputs": [],
   "source": [
    "from ipywidgets import interact\n",
    "@interact(theta=(0, 2.0))\n",
    "def hello_world(theta):\n",
    "    print(f'Hello world version {theta}')"
   ]
  },
  {
   "cell_type": "code",
   "execution_count": null,
   "id": "229bfcff-dacb-4dce-bc88-069053c11065",
   "metadata": {},
   "outputs": [],
   "source": [
    "from ipycanvas import Canvas\n",
    "canvas = Canvas(width=200, height=200)\n",
    "canvas.fill_rect(25, 25, 100, 100)\n",
    "canvas"
   ]
  },
  {
   "cell_type": "code",
   "execution_count": null,
   "metadata": {},
   "outputs": [],
   "source": []
  }
 ],
 "metadata": {
  "kernelspec": {
   "display_name": "Python 3",
   "language": "python",
   "name": "python3"
  },
  "language_info": {
   "codemirror_mode": {
    "name": "ipython",
    "version": 3
   },
   "file_extension": ".py",
   "mimetype": "text/x-python",
   "name": "python",
   "nbconvert_exporter": "python",
   "pygments_lexer": "ipython3",
   "version": "3.12.0"
  },
  "scenes_data": {
   "active_scene": "Default Scene",
   "init_scene": "",
   "scenes": [
    "Default Scene"
   ]
  }
 },
 "nbformat": 4,
 "nbformat_minor": 5
}
